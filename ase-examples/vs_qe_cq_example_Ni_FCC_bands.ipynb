{
 "cells": [
  {
   "cell_type": "markdown",
   "metadata": {},
   "source": [
    "# Example for BCC Ni electronic band structure (non-magnetic state)\n",
    "### *Conquest vs QEspresso*"
   ]
  },
  {
   "cell_type": "code",
   "execution_count": null,
   "metadata": {},
   "outputs": [],
   "source": [
    "import os\n",
    "import shutil\n",
    "import subprocess\n",
    "import matplotlib.pyplot as plt\n",
    "import pickle\n",
    "\n",
    "from scipy.integrate import cumulative_trapezoid, trapezoid\n",
    "\n",
    "from distutils.spawn import find_executable\n",
    "from numpy import amax, amin, size, array, trapz, floor, cumsum\n",
    "\n",
    "from ase.calculators.conquest import Conquest\n",
    "from ase.io.conquest import Conquest_orthorhombic_check\n",
    "from ase.io.conquest import get_fermi_level\n",
    "from ase.io.conquest import read_conquest\n",
    "\n",
    "from ase.calculators.espresso import Espresso\n",
    "from ase.io.espresso import grep_valence\n",
    "\n",
    "from ase.units import Hartree\n",
    "from ase.build import bulk\n",
    "from ase.dft.bandgap import bandgap\n",
    "from ase.dft.dos import DOS\n",
    "from ase.visualize import view\n",
    "from ase.spacegroup import get_spacegroup\n",
    "from ase import Atoms\n",
    "\n",
    "from cq_ase_external_lib import print_struct_data\n",
    "from cq_ase_external_lib import get_gapwind"
   ]
  },
  {
   "cell_type": "code",
   "execution_count": null,
   "metadata": {},
   "outputs": [],
   "source": [
    "%%bash \n",
    "ase --version"
   ]
  },
  {
   "cell_type": "markdown",
   "metadata": {},
   "source": [
    "## Tools setup"
   ]
  },
  {
   "cell_type": "markdown",
   "metadata": {},
   "source": [
    "- Check if visualisation tools are installed"
   ]
  },
  {
   "cell_type": "code",
   "execution_count": null,
   "metadata": {},
   "outputs": [],
   "source": [
    "# Add exe name \n",
    "cmd_vis = {'xcrysden' : False}\n",
    "\n",
    "for cmd, state in cmd_vis.items():\n",
    "    if ( not shutil.which(cmd) ):\n",
    "        print('{} not found'.format(cmd))\n",
    "    else:\n",
    "        print('{} found'.format(cmd))   \n",
    "        cmd_vis[cmd] = True\n",
    "        \n",
    "# For MacOSX add the path of the name of the app\n",
    "cmd_app = {'VESTA'      : '/Applications/VESTA/VESTA.app/Contents/MacOS/VESTA',\n",
    "           'VMDLauncher': '/Applications/VMD_1.9.2.app/Contents/MacOS/VMDLauncher'}\n",
    "\n",
    "for cmd, path in cmd_app.items():\n",
    "    if ( not find_executable(path) ):\n",
    "        print('{} not found'.format(cmd))\n",
    "    else:\n",
    "        print('{} found'.format(cmd))   "
   ]
  },
  {
   "cell_type": "markdown",
   "metadata": {},
   "source": [
    "- Directory for storing calculation files"
   ]
  },
  {
   "cell_type": "code",
   "execution_count": null,
   "metadata": {},
   "outputs": [],
   "source": [
    "working_directory = 'vs_qe_cq_example_Ni_FCC_bands'\n",
    "\n",
    "# Test if `working_directory` exists ? If not create it\n",
    "if ( not os.path.isdir(working_directory) ):\n",
    "    os.makedirs(working_directory)"
   ]
  },
  {
   "cell_type": "markdown",
   "metadata": {},
   "source": [
    "## Generate rocksalt cell from CIF file data"
   ]
  },
  {
   "cell_type": "markdown",
   "metadata": {},
   "source": [
    "- Choose either primitive or conventional cell"
   ]
  },
  {
   "cell_type": "code",
   "execution_count": null,
   "metadata": {},
   "outputs": [],
   "source": [
    "primitive = False"
   ]
  },
  {
   "cell_type": "markdown",
   "metadata": {},
   "source": [
    "- Generate Ni FCC struture with $a=3.51$ Ang."
   ]
  },
  {
   "cell_type": "code",
   "execution_count": null,
   "metadata": {},
   "outputs": [],
   "source": [
    "if ( primitive ):\n",
    "    # For primitive cell\n",
    "    struct = bulk('Ni', crystalstructure='fcc', a=3.51, cubic=False)\n",
    "    # Conquest can only handle orthorhombic cells ; check\n",
    "    struct = Conquest_orthorhombic_check(struct,verbose=False)\n",
    "    # warning must be printed and 'struct' is modified to conventional cell\n",
    "    \n",
    "else:\n",
    "    # For conventional cell\n",
    "    struct = bulk('Ni', crystalstructure='fcc', a=3.51, cubic=True)\n",
    "    # Conquest can only handle orthorhombic cells ; check\n",
    "    struct = Conquest_orthorhombic_check(struct,verbose=False)\n",
    "    # no warning..."
   ]
  },
  {
   "cell_type": "markdown",
   "metadata": {},
   "source": [
    "- Extract and print main structural data from Atoms object (here `struct`)"
   ]
  },
  {
   "cell_type": "code",
   "execution_count": null,
   "metadata": {},
   "outputs": [],
   "source": [
    "print_struct_data(struct,verbose=1)"
   ]
  },
  {
   "cell_type": "markdown",
   "metadata": {},
   "source": [
    "- Space group ; Brillouin zone of space group [225](https://www.cryst.ehu.es/cgi-bin/cryst/programs/nph-kv-list?gnum=225&fig=fm3qmf&what=data)"
   ]
  },
  {
   "cell_type": "code",
   "execution_count": null,
   "metadata": {},
   "outputs": [],
   "source": [
    "sg = get_spacegroup(struct)\n",
    "print('Space group: {} ({}) '.format(sg.symbol,sg.no))"
   ]
  },
  {
   "cell_type": "markdown",
   "metadata": {},
   "source": [
    "- Save input structure as VASP `POSCAR` file & `CIF` file (for checking purpose)"
   ]
  },
  {
   "cell_type": "code",
   "execution_count": null,
   "metadata": {},
   "outputs": [],
   "source": [
    "struct.write(working_directory+'/input.vasp')\n",
    "struct.write(working_directory+'/input.cif')"
   ]
  },
  {
   "cell_type": "markdown",
   "metadata": {},
   "source": [
    "- run `VESTA` to check input (if possible) from `input.cif`"
   ]
  },
  {
   "cell_type": "code",
   "execution_count": null,
   "metadata": {},
   "outputs": [],
   "source": [
    "if ( 'VESTA' in cmd_app ):\n",
    "    subprocess.run([cmd_app['VESTA'], working_directory+'/'+'input.cif'])"
   ]
  },
  {
   "cell_type": "markdown",
   "metadata": {},
   "source": [
    "## Band-path setup"
   ]
  },
  {
   "cell_type": "markdown",
   "metadata": {},
   "source": [
    "- Lattice description"
   ]
  },
  {
   "cell_type": "code",
   "execution_count": null,
   "metadata": {},
   "outputs": [],
   "source": [
    "latt  = struct.cell.get_bravais_lattice()\n",
    "print(latt.description())\n",
    "#print('lattice = ', latt)\n",
    "#print('special k-point = ',list(latt.get_special_points()))"
   ]
  },
  {
   "cell_type": "markdown",
   "metadata": {},
   "source": [
    "- Choose bandpath"
   ]
  },
  {
   "cell_type": "code",
   "execution_count": null,
   "metadata": {},
   "outputs": [],
   "source": [
    "if ( primitive ):\n",
    "    # For primitive cell\n",
    "    path = 'GXWKGLUWLK'\n",
    "else:\n",
    "    # For conventional cell\n",
    "    path = 'GXMGRX,MR'"
   ]
  },
  {
   "cell_type": "markdown",
   "metadata": {},
   "source": [
    "- Setup kpath and plot"
   ]
  },
  {
   "cell_type": "code",
   "execution_count": null,
   "metadata": {},
   "outputs": [],
   "source": [
    "nkpts = 100\n",
    "kpath = struct.cell.bandpath(path, npoints=nkpts)\n",
    "#latt.plot_bz(show=True,path=path)\n",
    "\n",
    "#size1, size2 = kpath.kpts.shape\n",
    "#print('k-point array shape =',size1,'x',size2)\n",
    "#print('k-point coord list (fractional coord.)')\n",
    "#print(kpath.kpts) "
   ]
  },
  {
   "cell_type": "markdown",
   "metadata": {},
   "source": [
    "## SCF and band structure calculation with Conquest"
   ]
  },
  {
   "cell_type": "markdown",
   "metadata": {},
   "source": [
    "- Copy ASE `struct` object file"
   ]
  },
  {
   "cell_type": "code",
   "execution_count": null,
   "metadata": {},
   "outputs": [],
   "source": [
    "cq_struct = struct"
   ]
  },
  {
   "cell_type": "markdown",
   "metadata": {},
   "source": [
    "- Define Conquest environment variables"
   ]
  },
  {
   "cell_type": "code",
   "execution_count": null,
   "metadata": {},
   "outputs": [],
   "source": [
    "os.environ['ASE_CONQUEST_COMMAND'] = 'mpirun -np 4 /Users/lioneltruflandier/CONQUEST-develop/src/Conquest'\n",
    "os.environ['CQ_PP_PATH'] = '/Users/lioneltruflandier/CONQUEST-develop/pseudo-and-pao/'\n",
    "os.environ['CQ_GEN_BASIS_CMD'] = '/Users/lioneltruflandier/CONQUEST-develop/tools/BasisGeneration/MakeIonFiles'"
   ]
  },
  {
   "cell_type": "markdown",
   "metadata": {},
   "source": [
    "- Setup Conquest basis set"
   ]
  },
  {
   "cell_type": "code",
   "execution_count": null,
   "metadata": {},
   "outputs": [],
   "source": [
    "basis = {'Ni' : {'gen_basis'            : True,\n",
    "                 'basis_size'           : 'large'}\n",
    "        }\n",
    "\n",
    "val_elec = {'Ni': 18}"
   ]
  },
  {
   "cell_type": "markdown",
   "metadata": {},
   "source": [
    "- Given `struct`and the `val_elec`compute the total number of electrons"
   ]
  },
  {
   "cell_type": "code",
   "execution_count": null,
   "metadata": {},
   "outputs": [],
   "source": [
    "# Get atom labels\n",
    "atom_names = struct.get_chemical_symbols()\n",
    "\n",
    "# Compute total valence electrons\n",
    "tot_val = 0\n",
    "for i in range(len(struct)):\n",
    "    for key, val in val_elec.items():\n",
    "        if ( key == atom_names[i] ):\n",
    "            tot_val = tot_val + val\n",
    "\n",
    "print('Number of valence electron in the unit cell = ', tot_val)"
   ]
  },
  {
   "cell_type": "markdown",
   "metadata": {},
   "source": [
    "- Compute number(s) of occupied states"
   ]
  },
  {
   "cell_type": "code",
   "execution_count": null,
   "metadata": {},
   "outputs": [],
   "source": [
    "n_occ = []\n",
    "if ( tot_val % 2 == 0):\n",
    "    # paired electrons\n",
    "    n_occ.append(int(tot_val/2))\n",
    "else:\n",
    "    # unpaired electrons\n",
    "    n_occ.append(int((tot_val-1)/2))\n",
    "    n_occ.append(int((tot_val+1)/2))\n",
    "    \n",
    "print()\n",
    "print('Number of occupied bands = ', n_occ)"
   ]
  },
  {
   "cell_type": "markdown",
   "metadata": {},
   "source": [
    "- Setup data input specification (Ha unit)"
   ]
  },
  {
   "cell_type": "code",
   "execution_count": null,
   "metadata": {},
   "outputs": [],
   "source": [
    "cutoff  =  90.0\n",
    "kpoints = [6,6,6]\n",
    "fxc     = 'PBE'\n",
    "kT      = 0.005\n",
    "\n",
    "#conquest_flags = {'General.DifferentFunctional' : 'True'}\n",
    "\n",
    "conquest_flags = {'IO.WriteOutToASEFile' : True,\n",
    "                  'IO.DumpChargeDensity' : True,\n",
    "                  'Diag.SmearingType   ' : 0,\n",
    "                  'Diag.kT'              : kT,\n",
    "                  'minE.SCTolerance'     : 1e-8,\n",
    "                  'General.NeutralAtom'  : False\n",
    "                 }"
   ]
  },
  {
   "cell_type": "markdown",
   "metadata": {},
   "source": [
    "- Setup calculation using Conquest as calculator"
   ]
  },
  {
   "cell_type": "code",
   "execution_count": null,
   "metadata": {},
   "outputs": [],
   "source": [
    "cq_struct.calc = Conquest(directory = working_directory,\n",
    "                    grid_cutoff     = cutoff,\n",
    "                    self_consistent = True,\n",
    "                    xc    = fxc,\n",
    "                    basis = basis,\n",
    "                    kpts  = kpoints,\n",
    "                    nspin = 1,\n",
    "                    **conquest_flags)\n",
    "\n",
    "#cq_struct.calc = calc\n",
    "print(cq_struct.calc)"
   ]
  },
  {
   "cell_type": "markdown",
   "metadata": {},
   "source": [
    "- <span style='background:orange'>  Launch SCF calculation (be patient...) </span>"
   ]
  },
  {
   "cell_type": "code",
   "execution_count": null,
   "metadata": {},
   "outputs": [],
   "source": [
    "dft_energy = cq_struct.get_potential_energy()"
   ]
  },
  {
   "cell_type": "markdown",
   "metadata": {},
   "source": [
    "- Copy SCF calculation input/output files "
   ]
  },
  {
   "cell_type": "code",
   "execution_count": null,
   "metadata": {},
   "outputs": [],
   "source": [
    "subprocess.run(['cp', working_directory+'/'+'Conquest_input', \n",
    "                working_directory+'/'+'Conquest_input_scf'])\n",
    "\n",
    "subprocess.run(['cp', working_directory+'/'+'Conquest_out', \n",
    "                working_directory+'/'+'Conquest_out_scf'])"
   ]
  },
  {
   "cell_type": "markdown",
   "metadata": {},
   "source": [
    "- Extract results"
   ]
  },
  {
   "cell_type": "code",
   "execution_count": null,
   "metadata": {},
   "outputs": [],
   "source": [
    "cq_struct.calc.read_results()"
   ]
  },
  {
   "cell_type": "markdown",
   "metadata": {},
   "source": [
    "- Extract and print Fermi energy from SCF "
   ]
  },
  {
   "cell_type": "code",
   "execution_count": null,
   "metadata": {},
   "outputs": [],
   "source": [
    "cq_fermi_energy_scf = struct.calc.eFermi\n",
    "\n",
    "print('Fermi SCF = {:12.4f} eV'.format(cq_fermi_energy_scf))\n",
    "cq_fermi_energy = cq_fermi_energy_scf"
   ]
  },
  {
   "cell_type": "markdown",
   "metadata": {},
   "source": [
    "- Setup Conquest band structure parameters"
   ]
  },
  {
   "cell_type": "code",
   "execution_count": null,
   "metadata": {},
   "outputs": [],
   "source": [
    "changed_parameters = cq_struct.calc.set(kpts=kpath.kpts,self_consistent=False,**conquest_flags)"
   ]
  },
  {
   "cell_type": "markdown",
   "metadata": {},
   "source": [
    "- ...or setup `kpoint_lines` in Conquest bands input"
   ]
  },
  {
   "cell_type": "code",
   "execution_count": null,
   "metadata": {},
   "outputs": [],
   "source": [
    "#kpts_lines = {'path': path, 'npoints': nkpts, 'special_points' : '{'+path+'}'}\n",
    "#changed_parameters = calc.set(kpts=kpts_lines,self_consistent=False,**conquest_flags)"
   ]
  },
  {
   "cell_type": "markdown",
   "metadata": {},
   "source": [
    "- <span style='background:orange'> Run band structure calculation (be patient...) </span>\n",
    "\n"
   ]
  },
  {
   "cell_type": "code",
   "execution_count": null,
   "metadata": {},
   "outputs": [],
   "source": [
    "cq_struct.calc.calculate(cq_struct)"
   ]
  },
  {
   "cell_type": "markdown",
   "metadata": {},
   "source": [
    "- Extract Conquest band structure"
   ]
  },
  {
   "cell_type": "code",
   "execution_count": null,
   "metadata": {},
   "outputs": [],
   "source": [
    "cq_bs = cq_struct.calc.band_structure()"
   ]
  },
  {
   "cell_type": "markdown",
   "metadata": {},
   "source": [
    "- Setup energy reference for band structure plot"
   ]
  },
  {
   "cell_type": "code",
   "execution_count": null,
   "metadata": {},
   "outputs": [],
   "source": [
    "cq_bs._reference = cq_fermi_energy\n",
    "\n",
    "# Rescaled energies if needed : Fermi energy setup to 0.0 !\n",
    "cq_bs._energies  = cq_bs._energies  - cq_fermi_energy\n",
    "cq_bs._reference = cq_bs._reference - cq_fermi_energy"
   ]
  },
  {
   "cell_type": "markdown",
   "metadata": {},
   "source": [
    "- Print Fermi energy and energy spectrum bounds"
   ]
  },
  {
   "cell_type": "code",
   "execution_count": null,
   "metadata": {},
   "outputs": [],
   "source": [
    "print('Fermi = {:12.4f} eV'.format(cq_fermi_energy))\n",
    "e_max = amax(cq_bs.energies) ; print('e_max = {:12.4f} eV'.format(e_max))\n",
    "e_min = amin(cq_bs.energies) ; print('e_min = {:12.4f} eV'.format(e_min))"
   ]
  },
  {
   "cell_type": "markdown",
   "metadata": {},
   "source": [
    "- Compute DOS ; Fermi energy must be given"
   ]
  },
  {
   "cell_type": "code",
   "execution_count": null,
   "metadata": {},
   "outputs": [],
   "source": [
    "cq_dos = DOS(cq_struct.calc, width=0.1, fermi=[cq_fermi_energy], npts=2201)"
   ]
  },
  {
   "cell_type": "code",
   "execution_count": null,
   "metadata": {},
   "outputs": [],
   "source": [
    "cq_d = cq_dos.get_dos() \n",
    "cq_e = cq_dos.get_energies() "
   ]
  },
  {
   "cell_type": "code",
   "execution_count": null,
   "metadata": {},
   "outputs": [],
   "source": [
    "%matplotlib inline\n",
    "from numpy import shape\n",
    "\n",
    "# Get the total number of states\n",
    "nspin, nkpts, nstates = shape(cq_bs.energies)\n",
    "\n",
    "# Choose energy window [e_min, e_max]\n",
    "e_max =  25.0\n",
    "e_min = -15.0\n",
    "\n",
    "# Set ax0 and ax1 on 1 single figure\n",
    "fig, (cq_ax0, cq_ax1) = plt.subplots(1,2)\n",
    "\n",
    "# Plot DOS on ax1\n",
    "cq_ax1.plot(cq_d, cq_e, color='black')\n",
    "\n",
    "# Set plots limits\n",
    "cq_ax1.set_ylim(e_min,e_max)\n",
    "cq_ax1.set_xlim(0.0,n_occ[0])\n",
    "\n",
    "# Plot horizontal and vertical lines and x-axis label\n",
    "cq_ax1.axhline(cq_bs.reference, color='k', ls=':')\n",
    "cq_ax1.axvline(n_occ[0], color='k', ls=':', linewidth=0.2)\n",
    "cq_ax1.set_xlabel('state count')\n",
    "\n",
    "# Plot band structure on ax0\n",
    "cq_ax0.set_xlabel('$k$-path')\n",
    "cq_bs.plot(ax=cq_ax0, emin=e_min, emax=e_max, show=False, color='black')\n"
   ]
  },
  {
   "cell_type": "markdown",
   "metadata": {},
   "source": [
    "- Compute direct and indirect band gap"
   ]
  },
  {
   "cell_type": "code",
   "execution_count": null,
   "metadata": {},
   "outputs": [],
   "source": [
    "#WARNING: accuracy issue from ASE 'bandgap' (not yet resolved)\n",
    "#solution: add epsilon to bs._reference (fermi_energy)\n",
    "eps = 1e-6\n",
    "cq_gap_d, p1, p2 = bandgap(cq_struct.calc,efermi=cq_fermi_energy+eps,direct=True)\n",
    "cq_gap_i, p1, p2 = bandgap(cq_struct.calc,efermi=cq_fermi_energy+eps,direct=False)"
   ]
  },
  {
   "cell_type": "markdown",
   "metadata": {},
   "source": [
    "## SCF and band structure calculation with QEspresso"
   ]
  },
  {
   "cell_type": "markdown",
   "metadata": {},
   "source": [
    "- Copy ASE `struct` object file"
   ]
  },
  {
   "cell_type": "code",
   "execution_count": null,
   "metadata": {},
   "outputs": [],
   "source": [
    "qe_struct = struct"
   ]
  },
  {
   "cell_type": "markdown",
   "metadata": {},
   "source": [
    "- Define QEspresso environment"
   ]
  },
  {
   "cell_type": "code",
   "execution_count": null,
   "metadata": {},
   "outputs": [],
   "source": [
    "os.environ['ASE_ESPRESSO_COMMAND']= 'mpirun -np 4 /Users/lioneltruflandier/QEspresso/qe-7.1/bin/pw.x  < PREFIX.pwi > PREFIX.pwo'\n",
    "os.environ['ESPRESSO_PSEUDO']     = '/Users/lioneltruflandier/QEspresso/pseudo_dojo'"
   ]
  },
  {
   "cell_type": "markdown",
   "metadata": {},
   "source": [
    "- Define pseudopotential for Na and Cl and valence electrons"
   ]
  },
  {
   "cell_type": "code",
   "execution_count": null,
   "metadata": {},
   "outputs": [],
   "source": [
    "pseudo_path      = os.environ['ESPRESSO_PSEUDO']\n",
    "pseudopotentials = {'Ni': 'Ni.upf'}\n",
    "\n",
    "val_elec = { }\n",
    "for symbol, pseudo in pseudopotentials.items():\n",
    "    print(symbol,pseudo,grep_valence(pseudo_path+'/'+pseudo))\n",
    "    val_elec[symbol] = [grep_valence(pseudo_path+'/'+pseudo),1]\n",
    "    \n",
    "for key, val in val_elec.items():\n",
    "    print(key,val)"
   ]
  },
  {
   "cell_type": "markdown",
   "metadata": {},
   "source": [
    "- Given `struct`and the `val_elec`compute the total number of electrons"
   ]
  },
  {
   "cell_type": "code",
   "execution_count": null,
   "metadata": {},
   "outputs": [],
   "source": [
    "# Get atom labels\n",
    "atom_names = cq_struct.get_chemical_symbols()\n",
    "\n",
    "# Compute total valence electrons\n",
    "tot_val = 0\n",
    "for i in range(len(struct)):\n",
    "    for key, val in val_elec.items():\n",
    "        if ( key == atom_names[i] ):\n",
    "            tot_val = tot_val + val[0]\n",
    "\n",
    "print('Number of valence electron in the unit cell = ', tot_val)"
   ]
  },
  {
   "cell_type": "markdown",
   "metadata": {},
   "source": [
    "- Compute number(s) of occupied states"
   ]
  },
  {
   "cell_type": "code",
   "execution_count": null,
   "metadata": {},
   "outputs": [],
   "source": [
    "n_occ = []\n",
    "if ( tot_val % 2 == 0):\n",
    "    # paired electrons\n",
    "    n_occ.append(int(tot_val/2))\n",
    "else:\n",
    "    # unpaired electrons\n",
    "    n_occ.append(int((tot_val-1)/2))\n",
    "    n_occ.append(int((tot_val+1)/2))\n",
    "    \n",
    "print()\n",
    "print('Number of occupied bands = ', n_occ)"
   ]
  },
  {
   "cell_type": "markdown",
   "metadata": {},
   "source": [
    "- Define number of unoccupied states (make sens only for bands calculation)"
   ]
  },
  {
   "cell_type": "code",
   "execution_count": null,
   "metadata": {},
   "outputs": [],
   "source": [
    "n_ratio = 1.0\n",
    "n_virt  = [int(x*n_ratio) for x in n_occ]\n",
    "print('Number of unoccupied bands = ', n_virt)\n",
    "#n_virt =\n",
    "\n",
    "# Compute total\n",
    "n_tot = max(n_occ) + max(n_virt)\n",
    "print('Total number of bands = ', n_tot)"
   ]
  },
  {
   "cell_type": "markdown",
   "metadata": {},
   "source": [
    "- Setup data input specification (Ry unit)"
   ]
  },
  {
   "cell_type": "code",
   "execution_count": null,
   "metadata": {},
   "outputs": [],
   "source": [
    "ecutwfc = 90.0\n",
    "ecutrho = ecutwfc*6\n",
    "\n",
    "occupation= 'smearing'\n",
    "smearing  = 'fermi-dirac'\n",
    "kT = 0.01 # Ry unit\n",
    "\n",
    "input_data = {\n",
    "        'system' : {\n",
    "        'ecutwfc': ecutwfc,\n",
    "        'ecutrho': ecutrho,\n",
    "        'occupations' : occupation,\n",
    "        'smearing'    : smearing,\n",
    "        'degauss'     : kT}        \n",
    "        }\n"
   ]
  },
  {
   "cell_type": "markdown",
   "metadata": {},
   "source": [
    "- Setup calculation using Quantum-Espresso as calculator"
   ]
  },
  {
   "cell_type": "code",
   "execution_count": null,
   "metadata": {},
   "outputs": [],
   "source": [
    "qe_struct.calc = Espresso(directory = working_directory,\n",
    "                          pseudopotentials = pseudopotentials,\n",
    "                          tstress = True, \n",
    "                          tprnfor = True, \n",
    "                          kpts    = kpoints,\n",
    "                          input_data = input_data)"
   ]
  },
  {
   "cell_type": "markdown",
   "metadata": {},
   "source": [
    "-  <span style='background:orange'> Launch electronic structure calculation (be patient...) </span>"
   ]
  },
  {
   "cell_type": "code",
   "execution_count": null,
   "metadata": {},
   "outputs": [],
   "source": [
    "qe_dft_energy = qe_struct.get_potential_energy()"
   ]
  },
  {
   "cell_type": "markdown",
   "metadata": {},
   "source": [
    "- Copy SCF calculation input/output files "
   ]
  },
  {
   "cell_type": "code",
   "execution_count": null,
   "metadata": {},
   "outputs": [],
   "source": [
    "subprocess.run(['cp', working_directory+'/'+'espresso.pwi', \n",
    "                working_directory+'/'+'espresso.pwi_scf'])\n",
    "\n",
    "subprocess.run(['cp', working_directory+'/'+'espresso.pwo', \n",
    "                working_directory+'/'+'espresso.pwo_scf'])"
   ]
  },
  {
   "cell_type": "markdown",
   "metadata": {},
   "source": [
    "- Extract Fermi energy from SCF "
   ]
  },
  {
   "cell_type": "code",
   "execution_count": null,
   "metadata": {},
   "outputs": [],
   "source": [
    "qe_fermi_energy_scf = struct.calc.get_fermi_level()"
   ]
  },
  {
   "cell_type": "markdown",
   "metadata": {},
   "source": [
    "- Setup QEspresso band structure parameters"
   ]
  },
  {
   "cell_type": "code",
   "execution_count": null,
   "metadata": {},
   "outputs": [],
   "source": [
    "occupation= 'smearing'\n",
    "smearing  = 'fermi-dirac'\n",
    "kT = 0.01 # Ry unit\n",
    "\n",
    "input_data.update( {'control':\n",
    "                   {'calculation' :'bands',\n",
    "                    'restart_mode':'restart',\n",
    "                    'verbosity'   :'high'}} \n",
    "                 ) \n",
    "                   \n",
    "input_data.update( {'system':{'nbnd'   : n_tot,\n",
    "                              'ecutwfc': ecutwfc,\n",
    "                              'ecutrho': ecutrho,\n",
    "                              'occupations' : occupation,\n",
    "                              'smearing'    : smearing,\n",
    "                              'degauss'     : kT}}\n",
    "                 )\n",
    "input_data.update( {'electrons': {'diago_full_acc' : True }} )"
   ]
  },
  {
   "cell_type": "code",
   "execution_count": null,
   "metadata": {},
   "outputs": [],
   "source": [
    "#changed_parameters = qe_struct.calc.set(kpts=kpath,input_data=input_data)\n",
    "\n",
    "qe_struct.calc = Espresso(directory = working_directory,\n",
    "                          pseudopotentials = pseudopotentials,\n",
    "                          tstress = True, \n",
    "                          tprnfor = True, \n",
    "                          kpts    = kpath,\n",
    "                          input_data = input_data)"
   ]
  },
  {
   "cell_type": "markdown",
   "metadata": {},
   "source": [
    "-  <span style='background:orange'> Run band structure calculation (be patient...) </span>"
   ]
  },
  {
   "cell_type": "code",
   "execution_count": null,
   "metadata": {},
   "outputs": [],
   "source": [
    "qe_struct.calc.calculate(qe_struct,properties=[],system_changes=[])"
   ]
  },
  {
   "cell_type": "markdown",
   "metadata": {},
   "source": [
    "- Extract QEspresso band structure"
   ]
  },
  {
   "cell_type": "code",
   "execution_count": null,
   "metadata": {},
   "outputs": [],
   "source": [
    "qe_struct.calc.band_structure()"
   ]
  },
  {
   "cell_type": "markdown",
   "metadata": {},
   "source": [
    "- Choose wich Fermi level to use for bands and DOS post-processing \n",
    "\n",
    "> you have choice between `fermi_energy_scf` and `fermi_energy_bands`. For insulator, the first one is evaluated to be within the gap. The second one is setup at the highest occupied energy level."
   ]
  },
  {
   "cell_type": "code",
   "execution_count": null,
   "metadata": {},
   "outputs": [],
   "source": [
    "print('fermi SCF   = {:12.4f} eV'.format(qe_fermi_energy_scf))\n",
    "qe_fermi_energy = qe_fermi_energy_scf\n"
   ]
  },
  {
   "cell_type": "markdown",
   "metadata": {},
   "source": [
    "- Setup energy reference for band structure plot"
   ]
  },
  {
   "cell_type": "code",
   "execution_count": null,
   "metadata": {},
   "outputs": [],
   "source": [
    "qe_bs._reference = qe_fermi_energy\n",
    "\n",
    "# Rescaled energies if needed : Fermi energy setup to 0.0 !\n",
    "qe_bs._energies  = qe_bs._energies  - qe_fermi_energy\n",
    "qe_bs._reference = qe_bs._reference - qe_fermi_energy"
   ]
  },
  {
   "cell_type": "markdown",
   "metadata": {},
   "source": [
    "- Compute DOS ; Fermi energy must be given"
   ]
  },
  {
   "cell_type": "code",
   "execution_count": null,
   "metadata": {},
   "outputs": [],
   "source": [
    "qe_dos = DOS(qe_struct.calc, width=0.1, fermi=[qe_fermi_energy],npts=1201)\n",
    "qe_d = qe_dos.get_dos() / 2  # /2 to correct for ASE spin unpolarized\n",
    "qe_e = qe_dos.get_energies() "
   ]
  },
  {
   "cell_type": "markdown",
   "metadata": {},
   "source": [
    "- Plot and print `QEspresso` and `Conquest` band structure and DOS"
   ]
  },
  {
   "cell_type": "code",
   "execution_count": null,
   "metadata": {
    "scrolled": true
   },
   "outputs": [],
   "source": [
    "%matplotlib notebook\n",
    "\n",
    "# Choose energy window [e_min, e_max]\n",
    "e_max =  25.0\n",
    "e_min = -10.0\n",
    "\n",
    "fig2, (qe_ax0, qe_ax1) = plt.subplots(1,2)\n",
    "\n",
    "# Plot QEspresso DOS on qe_ax1\n",
    "qe_ax1.plot(qe_d, qe_e, color='black')\n",
    "\n",
    "# Plot Conquest DOS on qe_ax1\n",
    "qe_ax1.plot(cq_d, cq_e, color='blue' )\n",
    "    \n",
    "# Set labels and stuff on DOS plot\n",
    "qe_ax1.set_xlabel('state count')\n",
    "\n",
    "# Set plots x- and y- limits\n",
    "qe_ax1.set_xlim(0.0,n_occ[0])\n",
    "qe_ax1.set_ylim(e_min,e_max)\n",
    "\n",
    "# Plot horizontal and vertical lines and x-axis labels\n",
    "qe_ax1.axhline(qe_bs.reference, color='k', ls=':')\n",
    "qe_ax1.axvline(n_occ[0], color='k', ls=':', linewidth=0.2)\n",
    "qe_ax1.set_xlabel('state count')\n",
    "\n",
    "# Plot band strutures on ax0\n",
    "qe_ax0.set_xlabel('$k$-path')\n",
    "qe_bs.plot(ax=qe_ax0,emin=e_min, emax=e_max, show=True,color='black')\n",
    "cq_bs.plot(ax=qe_ax0,emin=e_min, emax=e_max, show=True,color='blue' )"
   ]
  },
  {
   "cell_type": "markdown",
   "metadata": {},
   "source": [
    "- Save figure as `bands.png` in `working_directory`"
   ]
  },
  {
   "cell_type": "code",
   "execution_count": null,
   "metadata": {},
   "outputs": [],
   "source": [
    "# Save band strutures\n",
    "fig2.savefig( working_directory+'/'+'bands.png', \n",
    "             dpi = 300, format='png', transparent=True, bbox_inches ='tight')"
   ]
  }
 ],
 "metadata": {
  "kernelspec": {
   "display_name": "Python 3 (ipykernel)",
   "language": "python",
   "name": "python3"
  },
  "language_info": {
   "codemirror_mode": {
    "name": "ipython",
    "version": 3
   },
   "file_extension": ".py",
   "mimetype": "text/x-python",
   "name": "python",
   "nbconvert_exporter": "python",
   "pygments_lexer": "ipython3",
   "version": "3.9.13"
  }
 },
 "nbformat": 4,
 "nbformat_minor": 4
}
