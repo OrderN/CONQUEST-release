{
 "cells": [
  {
   "cell_type": "markdown",
   "id": "6caf1f42",
   "metadata": {},
   "source": [
    "## Cu Nanoparticle calculation"
   ]
  },
  {
   "cell_type": "code",
   "execution_count": null,
   "id": "32925b2d",
   "metadata": {},
   "outputs": [],
   "source": [
    "import os\n",
    "from ase.io import read, write"
   ]
  },
  {
   "cell_type": "code",
   "execution_count": null,
   "id": "93239e97",
   "metadata": {},
   "outputs": [],
   "source": [
    "os.environ['ASE_CONQUEST_COMMAND'] = 'mpirun -np 10 /opt/chemistry/conquest/dev/bin/Conquest'\n",
    "os.environ['CQ_PP_PATH'] = '/opt/chemistry/conquest/dev/pseudo-and-pao/'\n",
    "os.environ['CQ_GEN_BASIS_CMD'] = 'mpirun -np 1 /opt/chemistry/conquest/dev/bin/MakeIonFiles'"
   ]
  },
  {
   "cell_type": "code",
   "execution_count": null,
   "id": "5dcdc438",
   "metadata": {},
   "outputs": [],
   "source": [
    "from ase.cluster.cubic import FaceCenteredCubic\n",
    "\n",
    "surfaces = [(1, 0, 0), (1, 1, 0), (1, 1, 1)]\n",
    "layers = [6, 9, 3] #original code=[6, 9, 5]\n",
    "lc = 3.61000 #lattice constant\n",
    "struct = FaceCenteredCubic('Cu', surfaces, layers, latticeconstant=lc)"
   ]
  },
  {
   "cell_type": "code",
   "execution_count": null,
   "id": "defae5b6",
   "metadata": {},
   "outputs": [],
   "source": [
    "diameter= struct.get_diameter()\n",
    "n_layer = struct.get_layers()\n",
    "\n",
    "print('diameter = ', diameter)\n",
    "print('number of layers = ', n_layer)"
   ]
  },
  {
   "cell_type": "code",
   "execution_count": null,
   "id": "7c7b372c",
   "metadata": {},
   "outputs": [],
   "source": [
    "cell_length = diameter + 20\n",
    "struct.set_cell([[cell_length, 0, 0],\n",
    "                [0, cell_length, 0],\n",
    "                [0, 0, cell_length]\n",
    "               ]\n",
    "              #,scale_atoms=(diameter/2, diameter/2, diameter/2)\n",
    "              )"
   ]
  },
  {
   "cell_type": "code",
   "execution_count": null,
   "id": "7dad7a7d",
   "metadata": {},
   "outputs": [],
   "source": [
    "# from ase.visualize import view\n",
    "# view(struct)"
   ]
  },
  {
   "cell_type": "code",
   "execution_count": null,
   "id": "7a7e9dcf",
   "metadata": {},
   "outputs": [],
   "source": [
    "from my_visualize import print_xyz\n",
    "print_xyz(struct)"
   ]
  },
  {
   "cell_type": "code",
   "execution_count": null,
   "id": "cd5cc37b",
   "metadata": {},
   "outputs": [],
   "source": [
    "# Create workdir\n",
    "working_directory = 'NP_layer' +str(layers[0]) +str(layers[1]) \\\n",
    "                  + str(layers[2]) +'_num'+ str(len(struct.positions)) + '_MP_p1_10kT'\n",
    "print(working_directory)\n",
    "\n",
    "# Test if `working_directory` exists ? If not create it\n",
    "if ( not os.path.isdir(working_directory) ):\n",
    "    os.makedirs(working_directory)"
   ]
  },
  {
   "cell_type": "code",
   "execution_count": null,
   "id": "55033b85",
   "metadata": {},
   "outputs": [],
   "source": [
    "write(working_directory + '/' + working_directory + '.cif', struct, format='cif')\n",
    "write(working_directory + '/' + working_directory + '.traj', struct, format='traj')\n",
    "write(working_directory + '/' + working_directory + '.xsf', struct, format='xsf')"
   ]
  },
  {
   "cell_type": "code",
   "execution_count": null,
   "id": "b230c523",
   "metadata": {},
   "outputs": [],
   "source": [
    "xc         = 'PBE'\n",
    "basis_size = 'medium'\n",
    "cutoff = 100.0\n",
    "kpoints = [1,1,1]\n",
    "charge = 1.0"
   ]
  },
  {
   "cell_type": "code",
   "execution_count": null,
   "id": "f142c3e1",
   "metadata": {},
   "outputs": [],
   "source": [
    "basis = {\n",
    "         'Cu': {'gen_basis'            : True,\n",
    "                'basis_size'           : basis_size,\n",
    "                \"pseudopotential_type\": 'hamann',\n",
    "                'xc'                   : xc,\n",
    "                },\n",
    "         'O' : { 'gen_basis'            : True,\n",
    "                 'basis_size'           : basis_size,\n",
    "                 'pseudopotential_type' : 'hamann',\n",
    "                 'xc'                   : xc },             \n",
    "         'H' : { 'gen_basis'            : True,\n",
    "                 'basis_size'           : basis_size,\n",
    "                 'pseudopotential_type' : 'hamann',\n",
    "                 'xc'                   : xc },\n",
    "         'C' : { 'gen_basis'            : True,\n",
    "                 'basis_size'           : basis_size,\n",
    "                 'pseudopotential_type' : 'hamann',\n",
    "                 'xc'                   : xc },         \n",
    "          }\n",
    "val_elec = {'Cu': 11, 'O': 6, 'H': 1, 'C': 4}"
   ]
  },
  {
   "cell_type": "code",
   "execution_count": null,
   "id": "bebfb06b",
   "metadata": {},
   "outputs": [],
   "source": [
    "from ase.calculators.conquest import Conquest\n",
    "\n",
    "conquest_flags = {'IO.WriteOutToASEFile': True}\n",
    "\n",
    "# Flags for atomic positions optimisation\n",
    "conquest_flags.update({'AtomMove.TypeOfRun'   : 'static',  # optimization algorithm\n",
    "                       'AtomMove.MaxForceTol' :  5e-3,   # 0.0005max Force component in Ha/bohr                       \n",
    "                       'AtomMove.ReuseDM'     :  True,    \n",
    "                       'AtomMove.AppendCoords':  True,\n",
    "                       'General.netCharge'    : charge,\n",
    "                       'Diag.SmearingType'    : 1,        # 0 = Fermi-Dirac, 1 = Methfessel-Paxton\n",
    "                       'Diag.kT'              : 0.01,   # default = 0.001\n",
    "                       #'AtomMove.WriteXSF T'  :  True,\n",
    "                       })    \n",
    "\n",
    "calc = Conquest(directory      = working_directory,\n",
    "                grid_cutoff    = cutoff,\n",
    "                scf_tolerance=5.0e-8,  # Ha\n",
    "                self_consistent= True,\n",
    "                xc    = xc,\n",
    "                basis = basis,\n",
    "                kpts  = kpoints,\n",
    "                nspin = 1,\n",
    "                **conquest_flags)"
   ]
  },
  {
   "cell_type": "code",
   "execution_count": null,
   "id": "872b3bd7",
   "metadata": {},
   "outputs": [],
   "source": [
    "# Create input files\n",
    "struct.calc.write_input(struct)"
   ]
  },
  {
   "cell_type": "code",
   "execution_count": null,
   "id": "533cf353",
   "metadata": {},
   "outputs": [],
   "source": []
  }
 ],
 "metadata": {
  "kernelspec": {
   "display_name": "Python 3 (ipykernel)",
   "language": "python",
   "name": "python3"
  },
  "language_info": {
   "codemirror_mode": {
    "name": "ipython",
    "version": 3
   },
   "file_extension": ".py",
   "mimetype": "text/x-python",
   "name": "python",
   "nbconvert_exporter": "python",
   "pygments_lexer": "ipython3",
   "version": "3.10.5"
  }
 },
 "nbformat": 4,
 "nbformat_minor": 5
}
