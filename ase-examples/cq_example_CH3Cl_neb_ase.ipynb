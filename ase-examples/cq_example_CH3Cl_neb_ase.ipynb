{
 "cells": [
  {
   "cell_type": "markdown",
   "id": "cfbb9ed6",
   "metadata": {
    "scrolled": true
   },
   "source": [
    "### Example for NEB calculation Cl$^-$+CH$_3$Cl using ASE+Conquest"
   ]
  },
  {
   "cell_type": "code",
   "execution_count": null,
   "id": "0bcdf2b6",
   "metadata": {},
   "outputs": [],
   "source": [
    "import os\n",
    "import numpy as np\n",
    "import matplotlib.pylab as plt\n",
    "\n",
    "from ase import Atoms\n",
    "from ase.io import read, write\n",
    "from ase.visualize import view\n",
    "from ase.constraints import FixAtoms\n",
    "from ase.calculators.conquest import Conquest\n",
    "from ase.calculators.emt import EMT\n",
    "\n",
    "from ase.mep import NEB, NEBTools\n",
    "from ase.optimize import BFGS\n",
    "\n",
    "from cq_ase_external_lib import read_conquest"
   ]
  },
  {
   "cell_type": "code",
   "execution_count": null,
   "id": "5ba812a5",
   "metadata": {},
   "outputs": [],
   "source": [
    "%%bash \n",
    "ase --version"
   ]
  },
  {
   "cell_type": "markdown",
   "id": "96203eed",
   "metadata": {},
   "source": [
    "#### Define Conquest environment"
   ]
  },
  {
   "cell_type": "code",
   "execution_count": null,
   "id": "5ece11e6",
   "metadata": {},
   "outputs": [],
   "source": [
    "CQ_ROOT = '/Users/lioneltruflandier/CONQUEST-release-1.2'\n",
    "os.environ['ASE_CONQUEST_COMMAND'] = 'mpirun -np 2 '+CQ_ROOT+'/bin/Conquest'\n",
    "os.environ['CQ_PP_PATH'] = CQ_ROOT+'/pseudo-and-pao/'\n",
    "os.environ['CQ_GEN_BASIS_CMD'] = CQ_ROOT+'/bin/MakeIonFiles'"
   ]
  },
  {
   "cell_type": "markdown",
   "id": "89f1a6d5",
   "metadata": {},
   "source": [
    "#### Directory for storing calculation files"
   ]
  },
  {
   "cell_type": "code",
   "execution_count": null,
   "id": "df3b2b86",
   "metadata": {},
   "outputs": [],
   "source": [
    "working_directory = 'cq_example_CH3Cl_neb_ase'\n",
    "\n",
    "# Test if `working_directory` exists ? If not create it\n",
    "if ( not os.path.isdir(working_directory) ):\n",
    "    os.makedirs(working_directory)"
   ]
  },
  {
   "cell_type": "markdown",
   "id": "1917283c",
   "metadata": {},
   "source": [
    "####  Read intial and final state from `ASE` trajectory files\n",
    "\n",
    "> Note that the intial and final state have already been optimized"
   ]
  },
  {
   "cell_type": "code",
   "execution_count": null,
   "id": "c0866df5",
   "metadata": {},
   "outputs": [],
   "source": [
    "initial = read('./struct/initial.traj')\n",
    "view(initial)"
   ]
  },
  {
   "cell_type": "code",
   "execution_count": null,
   "id": "b0dd675f",
   "metadata": {},
   "outputs": [],
   "source": [
    "final = read('./struct/final.traj')\n",
    "view(final)"
   ]
  },
  {
   "cell_type": "markdown",
   "id": "a14a6c10",
   "metadata": {},
   "source": [
    "####  (Re-)optimized initial and final state with Conquest"
   ]
  },
  {
   "cell_type": "markdown",
   "id": "65aaecdb",
   "metadata": {},
   "source": [
    "> PAO setup using small basis size"
   ]
  },
  {
   "cell_type": "code",
   "execution_count": null,
   "id": "3b0e3427",
   "metadata": {},
   "outputs": [],
   "source": [
    "basis = {'C' : { 'gen_basis'             : True,\n",
    "                 'basis_size'           : 'small',\n",
    "                 'pseudopotential_type' : 'hamann'},\n",
    "         'Cl': { 'gen_basis'             : True,\n",
    "                 'basis_size'           : 'small',\n",
    "                 'pseudopotential_type' : 'hamann'},\n",
    "         'H' : { 'gen_basis'             : True,\n",
    "                 'basis_size'           : 'small',\n",
    "                 'pseudopotential_type' : 'hamann'}\n",
    "        }"
   ]
  },
  {
   "cell_type": "markdown",
   "id": "c2ad8160",
   "metadata": {},
   "source": [
    "> Conquest calculator setup for positions optimisation ; note the overall charge of the system"
   ]
  },
  {
   "cell_type": "code",
   "execution_count": null,
   "id": "2ac278bf",
   "metadata": {},
   "outputs": [],
   "source": [
    "cutoff  =  90.0\n",
    "kpoints = [1,1,1]\n",
    "fxc     = 'PBE'\n",
    "\n",
    "conquest_flags = {'General.NetCharge' : 1.0}\n",
    "\n",
    "# Flags for atomic positions optimisation\n",
    "conquest_flags.update({'AtomMove.TypeOfRun'   : 'sqnm',  # optimization algorithm\n",
    "                       'AtomMove.MaxForceTol' :  1e-3,   # max Force component in Ha/bohr                       \n",
    "                       'AtomMove.ReuseDM'     :  True,    \n",
    "                       'AtomMove.AppendCoords':  True,\n",
    "                       })    \n",
    "\n",
    "calc = Conquest(directory      = working_directory,\n",
    "                grid_cutoff    = cutoff,\n",
    "                self_consistent= True,\n",
    "                xc    = fxc,\n",
    "                basis = basis,\n",
    "                kpts  = kpoints,\n",
    "                nspin = 1,\n",
    "                **conquest_flags)"
   ]
  },
  {
   "cell_type": "markdown",
   "id": "08aeab43",
   "metadata": {},
   "source": [
    "> Constrain the position of C atom in the cell for initial state"
   ]
  },
  {
   "cell_type": "code",
   "execution_count": null,
   "id": "656d2ee5",
   "metadata": {},
   "outputs": [],
   "source": [
    "mask = [atom.symbol == 'C'  for atom in initial]\n",
    "constraint = FixAtoms(mask=mask)\n",
    "initial.set_constraint(constraint)"
   ]
  },
  {
   "cell_type": "markdown",
   "id": "f0974ff1",
   "metadata": {},
   "source": [
    "> Initial state optimisation"
   ]
  },
  {
   "cell_type": "code",
   "execution_count": null,
   "id": "ce23b596",
   "metadata": {
    "scrolled": true
   },
   "outputs": [],
   "source": [
    "initial.calc   = calc\n",
    "initial_energy = initial.get_potential_energy(apply_constraint=True)"
   ]
  },
  {
   "cell_type": "markdown",
   "id": "49b14c7d",
   "metadata": {},
   "source": [
    "> Initial state geometry"
   ]
  },
  {
   "cell_type": "code",
   "execution_count": null,
   "id": "550d6afb",
   "metadata": {},
   "outputs": [],
   "source": [
    "atomic_order = ['H','C','Cl']\n",
    "initial_geom = read_conquest(working_directory+'/coord_next.dat', fractional=True, atomic_order=atomic_order)"
   ]
  },
  {
   "cell_type": "code",
   "execution_count": null,
   "id": "9e765b21",
   "metadata": {},
   "outputs": [],
   "source": [
    "view(initial_geom)\n",
    "write(working_directory+'/Cl-CH3Cl.traj', initial_geom)"
   ]
  },
  {
   "cell_type": "markdown",
   "id": "891115db",
   "metadata": {},
   "source": [
    "> Constrain the position of C atom in the cell for final state"
   ]
  },
  {
   "cell_type": "code",
   "execution_count": null,
   "id": "9afd6cbb",
   "metadata": {},
   "outputs": [],
   "source": [
    "mask = [atom.symbol == 'C'  for atom in final]\n",
    "constraint = FixAtoms(mask=mask)\n",
    "final.set_constraint(constraint)"
   ]
  },
  {
   "cell_type": "markdown",
   "id": "550f2eed",
   "metadata": {},
   "source": [
    "> Final state optimisation"
   ]
  },
  {
   "cell_type": "code",
   "execution_count": null,
   "id": "5165d3a8",
   "metadata": {},
   "outputs": [],
   "source": [
    "final.calc   = calc\n",
    "final_energy = final.get_potential_energy(apply_constraint=True)"
   ]
  },
  {
   "cell_type": "markdown",
   "id": "d3f21c21",
   "metadata": {},
   "source": [
    "> Final state geometry"
   ]
  },
  {
   "cell_type": "code",
   "execution_count": null,
   "id": "71688c8e",
   "metadata": {},
   "outputs": [],
   "source": [
    "atomic_order = ['H','C','Cl']\n",
    "final_geom = read_conquest(working_directory+'/coord_next.dat', fractional=True, atomic_order=atomic_order)"
   ]
  },
  {
   "cell_type": "code",
   "execution_count": null,
   "id": "5bf8c416",
   "metadata": {},
   "outputs": [],
   "source": [
    "view(final_geom)\n",
    "write(working_directory+'/ClCH3-Cl.traj', final)"
   ]
  },
  {
   "cell_type": "markdown",
   "id": "084e1b58",
   "metadata": {},
   "source": [
    "#### Prepare NEB calculation"
   ]
  },
  {
   "cell_type": "markdown",
   "id": "29fadcb0",
   "metadata": {},
   "source": [
    "> Load initial and final state"
   ]
  },
  {
   "cell_type": "code",
   "execution_count": null,
   "id": "3ac1e17f",
   "metadata": {},
   "outputs": [],
   "source": [
    "initial = read(working_directory+'/Cl-CH3Cl.traj')\n",
    "final   = read(working_directory+'/ClCH3-Cl.traj')"
   ]
  },
  {
   "cell_type": "markdown",
   "id": "444c2401",
   "metadata": {},
   "source": [
    "> Create constraints if any"
   ]
  },
  {
   "cell_type": "code",
   "execution_count": null,
   "id": "d8a15243",
   "metadata": {},
   "outputs": [],
   "source": [
    "mask = [atom.symbol == 'C'  for atom in initial]\n",
    "constraint = FixAtoms(mask=mask)"
   ]
  },
  {
   "cell_type": "markdown",
   "id": "a1829d32",
   "metadata": {},
   "source": [
    "> Setup calculator parameters for NEB ; standard SCF calculations => don't forget to delete optimisation parameters "
   ]
  },
  {
   "cell_type": "code",
   "execution_count": null,
   "id": "ffd34da7",
   "metadata": {},
   "outputs": [],
   "source": [
    "cutoff  =  90.0\n",
    "kpoints = [1,1,1]\n",
    "fxc     = 'PBE'\n",
    "conquest_flags = {'General.NetCharge' : 1.0}"
   ]
  },
  {
   "cell_type": "markdown",
   "id": "7543db4b",
   "metadata": {},
   "source": [
    "> Setup initial image calculator"
   ]
  },
  {
   "cell_type": "code",
   "execution_count": null,
   "id": "883968b3",
   "metadata": {},
   "outputs": [],
   "source": [
    "initial.calc = Conquest(directory = working_directory,\n",
    "                   grid_cutoff    = cutoff,\n",
    "                   self_consistent= True,\n",
    "                   xc    = fxc,\n",
    "                   basis = basis,\n",
    "                   kpts  = kpoints,\n",
    "                   nspin = 1,\n",
    "                   scf_tolerance = 1e-7, \n",
    "                   **conquest_flags)"
   ]
  },
  {
   "cell_type": "markdown",
   "id": "a21975cc",
   "metadata": {},
   "source": [
    "> Backup first image in a list"
   ]
  },
  {
   "cell_type": "code",
   "execution_count": null,
   "id": "a75f283f",
   "metadata": {},
   "outputs": [],
   "source": [
    "images = [initial]"
   ]
  },
  {
   "cell_type": "markdown",
   "id": "e4e6a108",
   "metadata": {},
   "source": [
    "> Generate 3 intermediate images and calculators"
   ]
  },
  {
   "cell_type": "code",
   "execution_count": null,
   "id": "5c7cb512",
   "metadata": {},
   "outputs": [],
   "source": [
    "for i in range(3):\n",
    "    image      = initial.copy()\n",
    "    image.calc = Conquest(directory = working_directory,\n",
    "                 grid_cutoff    = cutoff,\n",
    "                 self_consistent= True,\n",
    "                 xc    = fxc,\n",
    "                 basis = basis,\n",
    "                 kpts  = kpoints,\n",
    "                 nspin = 1,\n",
    "                 scf_tolerance = 1e-7, \n",
    "                 **conquest_flags)\n",
    "  \n",
    "    image.set_constraint(constraint)\n",
    "    images.append(image)"
   ]
  },
  {
   "cell_type": "markdown",
   "id": "7f5f039a",
   "metadata": {},
   "source": [
    "> Setup final image calculator"
   ]
  },
  {
   "cell_type": "code",
   "execution_count": null,
   "id": "443fc159",
   "metadata": {
    "scrolled": true
   },
   "outputs": [],
   "source": [
    "final.calc = Conquest(directory = working_directory,\n",
    "                 grid_cutoff    = cutoff,\n",
    "                 self_consistent= True,\n",
    "                 xc    = fxc,\n",
    "                 basis = basis,\n",
    "                 kpts  = kpoints,\n",
    "                 nspin = 1,\n",
    "                 scf_tolerance = 1e-7, \n",
    "                 **conquest_flags)"
   ]
  },
  {
   "cell_type": "markdown",
   "id": "0b5a77c3",
   "metadata": {},
   "source": [
    "> Backup final image"
   ]
  },
  {
   "cell_type": "code",
   "execution_count": null,
   "id": "b2ce3a4d",
   "metadata": {},
   "outputs": [],
   "source": [
    "images.append(final)"
   ]
  },
  {
   "cell_type": "markdown",
   "id": "a0b59b73",
   "metadata": {},
   "source": [
    "#### Launch the NEB calculation"
   ]
  },
  {
   "cell_type": "markdown",
   "id": "0dd23c40",
   "metadata": {},
   "source": [
    "> Generate NEB ASE object and interpolate intermediate images"
   ]
  },
  {
   "cell_type": "code",
   "execution_count": null,
   "id": "4d9929d1",
   "metadata": {},
   "outputs": [],
   "source": [
    "neb = NEB(images)\n",
    "neb.interpolate(apply_constraint=True)"
   ]
  },
  {
   "cell_type": "markdown",
   "id": "f161001b",
   "metadata": {},
   "source": [
    "> Setup optimisation method"
   ]
  },
  {
   "cell_type": "code",
   "execution_count": null,
   "id": "0be49610",
   "metadata": {},
   "outputs": [],
   "source": [
    "qn = BFGS(neb, trajectory='neb.traj')"
   ]
  },
  {
   "cell_type": "markdown",
   "id": "10d402e2",
   "metadata": {},
   "source": [
    "> Run the NEB optimisation"
   ]
  },
  {
   "cell_type": "code",
   "execution_count": null,
   "id": "5107cfc9",
   "metadata": {},
   "outputs": [],
   "source": [
    "qn.run(fmax=1.0)"
   ]
  },
  {
   "cell_type": "markdown",
   "id": "fdf84a28",
   "metadata": {},
   "source": [
    "#### Perform a last SCF calculation for each converged images (can't be avoid for now...)"
   ]
  },
  {
   "cell_type": "code",
   "execution_count": null,
   "id": "8dc36190",
   "metadata": {},
   "outputs": [],
   "source": [
    "energies = [ ]\n",
    "for image in images:\n",
    "    energies.append(image.get_potential_energy())\n",
    "#print(energies)"
   ]
  },
  {
   "cell_type": "markdown",
   "id": "0eceb0df",
   "metadata": {},
   "source": [
    "#### Extract data and plot using `NEBtools`"
   ]
  },
  {
   "cell_type": "code",
   "execution_count": null,
   "id": "fb1a5f74",
   "metadata": {},
   "outputs": [],
   "source": [
    "nebtools = NEBTools(images)\n",
    "\n",
    "# Get the calculated barrier and the energy change of the reaction.\n",
    "Ef, dE = nebtools.get_barrier()\n",
    "\n",
    "# Get the actual maximum force at this point in the simulation.\n",
    "max_force = nebtools.get_fmax() ; print('max_force = ',max_force)\n",
    "\n",
    "# Create a figure like that coming from ASE-GUI.\n",
    "fig = nebtools.plot_band()\n",
    "#fig.savefig('diffusion-barrier.png')\n",
    "\n",
    "# Create a figure with custom parameters.\n",
    "#fig = plt.figure(figsize=(5.5, 4.0))\n",
    "#ax = fig.add_axes((0.15, 0.15, 0.8, 0.75))\n",
    "#nebtools.plot_band(ax)\n",
    "#fig.savefig('diffusion-barrier.png')\n",
    "\n"
   ]
  },
  {
   "cell_type": "code",
   "execution_count": null,
   "id": "b0b7fcf2",
   "metadata": {},
   "outputs": [],
   "source": []
  },
  {
   "cell_type": "code",
   "execution_count": null,
   "id": "68ca9d9f",
   "metadata": {},
   "outputs": [],
   "source": [
    "# to visualise the trajectory type $ase gui neb.traj@:5"
   ]
  }
 ],
 "metadata": {
  "kernelspec": {
   "display_name": "Python 3 (ipykernel)",
   "language": "python",
   "name": "python3"
  },
  "language_info": {
   "codemirror_mode": {
    "name": "ipython",
    "version": 3
   },
   "file_extension": ".py",
   "mimetype": "text/x-python",
   "name": "python",
   "nbconvert_exporter": "python",
   "pygments_lexer": "ipython3",
   "version": "3.9.13"
  }
 },
 "nbformat": 4,
 "nbformat_minor": 5
}
