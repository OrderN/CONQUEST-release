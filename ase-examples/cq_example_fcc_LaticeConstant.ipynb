{
 "cells": [
  {
   "cell_type": "markdown",
   "id": "86775fcc",
   "metadata": {},
   "source": [
    "## Lattice constant calculation with Conquest"
   ]
  },
  {
   "cell_type": "code",
   "execution_count": null,
   "id": "c43b12e9",
   "metadata": {},
   "outputs": [],
   "source": [
    "import os"
   ]
  },
  {
   "cell_type": "code",
   "execution_count": null,
   "id": "da76ea67",
   "metadata": {},
   "outputs": [],
   "source": [
    "basis_size = 'medium'\n",
    "xc = 'PBE'\n",
    "\n",
    "basis = {\n",
    "         'Cu': {'gen_basis'            : True,\n",
    "                'basis_size'           : basis_size,\n",
    "                \"pseudopotential_type\": 'hamann',\n",
    "                'xc'                   : xc,\n",
    "                },\n",
    "         'O' : { 'gen_basis'            : True,\n",
    "                 'basis_size'           : basis_size,\n",
    "                 'pseudopotential_type' : 'hamann',\n",
    "                 'xc'                   : xc },             \n",
    "         'H' : { 'gen_basis'            : True,\n",
    "                 'basis_size'           : basis_size,\n",
    "                 'pseudopotential_type' : 'hamann',\n",
    "                 'xc'                   : xc },\n",
    "         'C' : { 'gen_basis'            : True,\n",
    "                 'basis_size'           : basis_size,\n",
    "                 'pseudopotential_type' : 'hamann',\n",
    "                 'xc'                   : xc },         \n",
    "          }"
   ]
  },
  {
   "cell_type": "code",
   "execution_count": null,
   "id": "6a005416",
   "metadata": {},
   "outputs": [],
   "source": [
    "os.environ['ASE_CONQUEST_COMMAND'] = 'mpirun -np 4 /opt/chemistry/conquest/dev/bin/Conquest'\n",
    "os.environ['CQ_PP_PATH'] = '/opt/chemistry/conquest/dev/pseudo-and-pao/'\n",
    "os.environ['CQ_GEN_BASIS_CMD'] = 'mpirun -np 10 /opt/chemistry/conquest/dev/bin/MakeIonFiles'"
   ]
  },
  {
   "cell_type": "code",
   "execution_count": null,
   "id": "c7102da7",
   "metadata": {},
   "outputs": [],
   "source": [
    "def set_Calculator_CQ(struct, basis_size, fxc, cutoff, kpoints):\n",
    "    from ase.calculators.conquest import Conquest\n",
    "    working_directory = mk_workdir(struct)\n",
    "    \n",
    "    basis = set_Basis(basis_size,fxc)\n",
    "    \n",
    "    conquest_flags = {'IO.WriteOutToASEFile': True}\n",
    "\n",
    "    # Flags for atomic positions optimisation\n",
    "    conquest_flags.update({'AtomMove.TypeOfRun'   : 'static',  # optimization algorithm\n",
    "                           'AtomMove.MaxForceTol' :  5e-3,   # max Force component in Ha/bohr                       \n",
    "                           'AtomMove.ReuseDM'     :  True,    \n",
    "                           'AtomMove.AppendCoords':  True,\n",
    "                           })    \n",
    "\n",
    "    calc = Conquest(directory      = working_directory,\n",
    "                    grid_cutoff    = cutoff,\n",
    "                    scf_tolerance=1.0e-7,  # Ha\n",
    "                    self_consistent= True,\n",
    "                    xc    = fxc,\n",
    "                    basis = basis,\n",
    "                    kpts  = kpoints,\n",
    "                    nspin = 1,\n",
    "                    **conquest_flags)\n",
    "\n",
    "    struct.calc = calc\n",
    "    return(struct)"
   ]
  },
  {
   "cell_type": "code",
   "execution_count": null,
   "id": "4f4e298a",
   "metadata": {},
   "outputs": [],
   "source": [
    "def myCQget_energy(struct):\n",
    "    struct = set_Calculator_CQ(struct,\n",
    "                               'medium',\n",
    "                               'PBE',\n",
    "                               cutoff = 100.0,\n",
    "                               kpoints = [8,8,8]\n",
    "                              )\n",
    "    \n",
    "    dft_energy = struct.get_potential_energy()\n",
    "    print(dft_energy, 'eV')\n",
    "    return(dft_energy)"
   ]
  },
  {
   "cell_type": "code",
   "execution_count": null,
   "id": "137f6506",
   "metadata": {
    "scrolled": true
   },
   "outputs": [],
   "source": [
    "import time\n",
    "from ase.build import bulk\n",
    "\n",
    "out_file = 'myOPT_en_vol'\n",
    "if ( os.path.isfile('Cu_opt/'+out_file) ):\n",
    "        os.remove('Cu_opt/'+out_file)\n",
    "        \n",
    "a =3.65 #Angstrom, set initial lattice constant\n",
    "\n",
    "num_rep = 3 #Set the number of calculation\n",
    "multis_a = range(-num_rep, num_rep+1)\n",
    "\n",
    "t1 = time.time()\n",
    "for multi_a in multis_a:\n",
    "    # Set lattis constant\n",
    "    a_tmp = a*(1+0.05*multi_a) # example of 5% difference\n",
    "    \n",
    "    # Set initial structure\n",
    "    print('calc with a = ', '{:.3f}'.format(a_tmp))\n",
    "    struct = bulk('Cu', 'fcc', a=a_tmp, cubic=True) \n",
    "    \n",
    "    # Set working directory\n",
    "    working_directory = 'cu_bulk_data/cu_bulk_cell{:.3f}'.format(struct.cell[0,0])\n",
    "\n",
    "    # Test if `working_directory` exists ? If not create it\n",
    "    if ( not os.path.isdir(working_directory) ):\n",
    "    os.makedirs(working_directory)\n",
    "    \n",
    "    # Start calculation\n",
    "    dft_energy = myCQget_energy(struct)\n",
    "    \n",
    "    # calculation speed check\n",
    "    with open(working_directory+'/Conquest_out', 'r') as f:\n",
    "        data = f.readlines()\n",
    "    calc_time = float(data[-1].split()[4])\n",
    "    print('calc_time = {:.3f} sec'.format(calc_time))\n",
    "    \n",
    "    # energy output file\n",
    "    with open(working_directory+'/../Cu_opt/myOPT_en_vol', 'a') as f:\n",
    "        f.write((str('{:.3f}'.format(float(struct.cell[0,0])**3)) + ' ' + str(dft_energy) + '\\n'))\n",
    "    print()\n",
    "    \n",
    "t2 = time.time()\n",
    "time_elapsed = t2 - t1\n",
    "print('Total_time_elapsed = {:.3f} sec'.format(time_elapsed))"
   ]
  },
  {
   "cell_type": "code",
   "execution_count": null,
   "id": "f31ac219",
   "metadata": {},
   "outputs": [],
   "source": [
    "import matplotlib.pyplot as plt\n",
    "\n",
    "with open('Cu_opt/myOPT_en_vol', 'r') as f:\n",
    "    data = f.read()\n",
    "    data = data.split('\\n')\n",
    "\n",
    "x = []\n",
    "y = []\n",
    "for row in data:\n",
    "    #print(row.split(' '))\n",
    "    if row == '':\n",
    "        continue\n",
    "    x.append(float(row.split(' ')[0]))\n",
    "    y.append(float(row.split(' ')[1]))\n",
    "\n",
    "plt.plot(x, y, marker = 'o')\n",
    "#plt.savefig(working_directory)\n",
    "plt.show()"
   ]
  },
  {
   "cell_type": "code",
   "execution_count": null,
   "id": "755db042",
   "metadata": {},
   "outputs": [],
   "source": []
  }
 ],
 "metadata": {
  "kernelspec": {
   "display_name": "Python 3 (ipykernel)",
   "language": "python",
   "name": "python3"
  },
  "language_info": {
   "codemirror_mode": {
    "name": "ipython",
    "version": 3
   },
   "file_extension": ".py",
   "mimetype": "text/x-python",
   "name": "python",
   "nbconvert_exporter": "python",
   "pygments_lexer": "ipython3",
   "version": "3.10.5"
  }
 },
 "nbformat": 4,
 "nbformat_minor": 5
}
