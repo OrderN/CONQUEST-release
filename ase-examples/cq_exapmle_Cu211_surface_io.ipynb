{
 "cells": [
  {
   "cell_type": "markdown",
   "id": "86775fcc",
   "metadata": {},
   "source": [
    "## Calculation of Cu211 with CONQUEST code"
   ]
  },
  {
   "cell_type": "code",
   "execution_count": null,
   "id": "dec8dbed",
   "metadata": {},
   "outputs": [],
   "source": [
    "import os\n",
    "from ase.io import read"
   ]
  },
  {
   "cell_type": "code",
   "execution_count": null,
   "id": "d7664240",
   "metadata": {},
   "outputs": [],
   "source": [
    "os.environ['ASE_CONQUEST_COMMAND'] = 'mpirun -np 10 /opt/chemistry/conquest/dev/bin/Conquest'\n",
    "os.environ['CQ_PP_PATH'] = '/opt/chemistry/conquest/dev/pseudo-and-pao/'\n",
    "os.environ['CQ_GEN_BASIS_CMD'] = 'mpirun -np 1 /opt/chemistry/conquest/dev/bin/MakeIonFiles'"
   ]
  },
  {
   "cell_type": "code",
   "execution_count": null,
   "id": "33089ba7",
   "metadata": {
    "scrolled": true
   },
   "outputs": [],
   "source": [
    "from ase.build import fcc211, add_vacuum\n",
    "a=3.616 # angstrom, from medium cutoff100 k888 condition for bulk calculation\n",
    "struct = fcc211('Cu', (3,3,3), a=a, vacuum=1e-20, orthogonal=True)\n",
    "add_vacuum(struct, vacuum=20)"
   ]
  },
  {
   "cell_type": "code",
   "execution_count": null,
   "id": "042c86b3",
   "metadata": {},
   "outputs": [],
   "source": [
    "from my_visualize import print_xyz\n",
    "print('Number of atoms = {} '.format(len(struct.positions)))\n",
    "print_xyz(struct)"
   ]
  },
  {
   "cell_type": "markdown",
   "id": "ce1ad0d3",
   "metadata": {},
   "source": [
    "#### Directory for storing calculation files"
   ]
  },
  {
   "cell_type": "code",
   "execution_count": null,
   "id": "322a568e",
   "metadata": {},
   "outputs": [],
   "source": [
    "def mk_workdir(workingdir):\n",
    "    \n",
    "    # Test if `working_directory` exists ? If not create it\n",
    "    if ( not os.path.isdir(workingdir) ):\n",
    "        os.makedirs(workingdir)\n",
    "    return"
   ]
  },
  {
   "cell_type": "code",
   "execution_count": null,
   "id": "ff646411",
   "metadata": {},
   "outputs": [],
   "source": [
    "def set_Basis(basis_size, xc):\n",
    "    basis = {\n",
    "             'Cu': {'gen_basis'            : True,\n",
    "                    'basis_size'           : basis_size,\n",
    "                    \"pseudopotential_type\": 'hamann',\n",
    "                    'xc'                   : xc,\n",
    "                    },\n",
    "             'O' : { 'gen_basis'            : True,\n",
    "                     'basis_size'           : basis_size,\n",
    "                     'pseudopotential_type' : 'hamann',\n",
    "                     'xc'                   : xc },             \n",
    "             'H' : { 'gen_basis'            : True,\n",
    "                     'basis_size'           : basis_size,\n",
    "                     'pseudopotential_type' : 'hamann',\n",
    "                     'xc'                   : xc },\n",
    "             'C' : { 'gen_basis'            : True,\n",
    "                     'basis_size'           : basis_size,\n",
    "                     'pseudopotential_type' : 'hamann',\n",
    "                     'xc'                   : xc },         \n",
    "              }\n",
    "    return(basis)"
   ]
  },
  {
   "cell_type": "code",
   "execution_count": null,
   "id": "dcc66e4a",
   "metadata": {},
   "outputs": [],
   "source": [
    "def set_Calculator_CQ(struct, basis_size, fxc, cutoff, kpoints):\n",
    "    from ase.calculators.conquest import Conquest\n",
    "    \n",
    "    basis = set_Basis(basis_size,fxc)\n",
    "    \n",
    "    conquest_flags = {'IO.WriteOutToASEFile': True}\n",
    "\n",
    "    # Flags for atomic positions optimisation\n",
    "    conquest_flags.update({'AtomMove.TypeOfRun'   : 'sqnm',  # optimization algorithm\n",
    "                           'AtomMove.MaxForceTol' :  5e-3,   # max Force component in Ha/bohr                       \n",
    "                           'AtomMove.ReuseDM'     :  True,    \n",
    "                           'AtomMove.AppendCoords':  True,\n",
    "                           })    \n",
    "\n",
    "    calc = Conquest(directory      = working_directory,\n",
    "                    grid_cutoff    = cutoff,\n",
    "                    scf_tolerance=1.0e-7,  # Ha\n",
    "                    self_consistent= True,\n",
    "                    xc    = fxc,\n",
    "                    basis = basis,\n",
    "                    kpts  = kpoints,\n",
    "                    nspin = 1,\n",
    "                    **conquest_flags)\n",
    "\n",
    "    struct.calc = calc\n",
    "    return(struct)"
   ]
  },
  {
   "cell_type": "code",
   "execution_count": null,
   "id": "67849e75",
   "metadata": {},
   "outputs": [],
   "source": [
    "# Create workdir\n",
    "working_directory = 'Cu211_opt'\n",
    "mk_workdir(working_directory)"
   ]
  },
  {
   "cell_type": "code",
   "execution_count": null,
   "id": "89443812",
   "metadata": {},
   "outputs": [],
   "source": [
    "struct = set_Calculator_CQ(struct,\n",
    "                           'medium',\n",
    "                           'PBE',\n",
    "                           cutoff = 100.0,\n",
    "                           kpoints = [4,3,1]\n",
    "                          )"
   ]
  },
  {
   "cell_type": "code",
   "execution_count": null,
   "id": "7d46fd6a",
   "metadata": {},
   "outputs": [],
   "source": [
    "import time\n",
    "t1 = time.time()\n",
    "\n",
    "# Create input files\n",
    "struct.calc.write_input(struct)\n",
    "\n",
    "t2 = time.time()\n",
    "time_elapsed = t2 - t1\n",
    "print('Total_time_elapsed = {:.3f} sec'.format(time_elapsed))"
   ]
  },
  {
   "cell_type": "code",
   "execution_count": null,
   "id": "bea8e3a0",
   "metadata": {},
   "outputs": [],
   "source": []
  }
 ],
 "metadata": {
  "kernelspec": {
   "display_name": "Python 3 (ipykernel)",
   "language": "python",
   "name": "python3"
  },
  "language_info": {
   "codemirror_mode": {
    "name": "ipython",
    "version": 3
   },
   "file_extension": ".py",
   "mimetype": "text/x-python",
   "name": "python",
   "nbconvert_exporter": "python",
   "pygments_lexer": "ipython3",
   "version": "3.10.5"
  }
 },
 "nbformat": 4,
 "nbformat_minor": 5
}
