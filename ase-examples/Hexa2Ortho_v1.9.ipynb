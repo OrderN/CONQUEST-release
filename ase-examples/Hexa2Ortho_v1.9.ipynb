{
 "cells": [
  {
   "cell_type": "code",
   "execution_count": null,
   "id": "c8e1df47",
   "metadata": {},
   "outputs": [],
   "source": [
    "from ase.build import graphene, make_supercell, add_vacuum, molecule, add_adsorbate\n",
    "from ase.visualize import view\n",
    "from ase.io import write, read\n",
    "from ase.build.supercells import clean_matrix\n",
    "\n",
    "import matplotlib.pyplot as plt\n",
    "from ase.visualize.plot import plot_atoms"
   ]
  },
  {
   "cell_type": "code",
   "execution_count": null,
   "id": "f224ef73",
   "metadata": {},
   "outputs": [],
   "source": [
    "def print_xyz1(name, slab):\n",
    "    print(name)\n",
    "    print(slab)\n",
    "    fig, axarr = plt.subplots(1, 4, figsize=(15, 5))\n",
    "    \n",
    "    plot_atoms(slab, axarr[0], radii=0.3, rotation=('0x,0y,0z'))\n",
    "    plot_atoms(slab, axarr[1], radii=0.3, rotation=('-90x,0y,0z'))\n",
    "    plot_atoms(slab, axarr[2], radii=0.3, rotation=('-90x,-90y,0z'))\n",
    "    plot_atoms(slab, axarr[3], radii=0.3, rotation=('-45x,0y,0z'))\n",
    "    \n",
    "    axarr[0].set_title(\"Top view\")\n",
    "    axarr[0].set_xlabel(\"X-axis, [$\\mathrm{\\AA}$]\")\n",
    "    axarr[0].set_ylabel(\"Y-axis, [$\\mathrm{\\AA}$]\")\n",
    "    \n",
    "    axarr[1].set_title(\"Side view\")\n",
    "    axarr[1].set_xlabel(\"X-axis, [$\\mathrm{\\AA}$]\")\n",
    "    axarr[1].set_ylabel(\"Z-axis, [$\\mathrm{\\AA}$]\")\n",
    "    \n",
    "    axarr[2].set_title(\"Side view\")\n",
    "    axarr[2].set_xlabel(\"Y-axis, [$\\mathrm{\\AA}$]\")\n",
    "    axarr[2].set_ylabel(\"Z-axis, [$\\mathrm{\\AA}$]\")\n",
    "    \n",
    "    axarr[3].set_title(\"Diagonal view\")\n",
    "    axarr[3].set_axis_off()\n",
    "    \n",
    "    fig.savefig(name+'.png')\n",
    "    return"
   ]
  },
  {
   "cell_type": "code",
   "execution_count": null,
   "id": "d57b2b48",
   "metadata": {},
   "outputs": [],
   "source": [
    "def print_xyz2(name, slab):\n",
    "    print(name)\n",
    "    print(slab)\n",
    "    fig, axarr = plt.subplots(1, 4, figsize=(15, 5))\n",
    "\n",
    "    plot_atoms(slab, axarr[0], radii=0.3, rotation=('0x,0y,0z'))\n",
    "\n",
    "    plot_atoms(slab, axarr[1], radii=0.3, rotation=('-90x,0y,0z'))\n",
    "\n",
    "    plot_atoms(slab, axarr[2], radii=0.3, rotation=('-90x,-90y,0z'))\n",
    "\n",
    "    plot_atoms(slab, axarr[3], radii=0.3, rotation=('-70x,35y,12z'))\n",
    "\n",
    "    axarr[0].set_title(\"Top view\")\n",
    "    axarr[0].set_xlabel(\"X-axis, [$\\mathrm{\\AA}$]\")\n",
    "    axarr[0].set_ylabel(\"Y-axis, [$\\mathrm{\\AA}$]\")\n",
    "\n",
    "    axarr[1].set_title(\"Side view\")\n",
    "    axarr[1].set_xlabel(\"X-axis, [$\\mathrm{\\AA}$]\")\n",
    "    axarr[1].set_ylabel(\"Z-axis, [$\\mathrm{\\AA}$]\")\n",
    "\n",
    "    axarr[2].set_title(\"Side view\")\n",
    "    axarr[2].set_xlabel(\"Y-axis, [$\\mathrm{\\AA}$]\")\n",
    "    axarr[2].set_ylabel(\"Z-axis, [$\\mathrm{\\AA}$]\")\n",
    "\n",
    "    axarr[3].set_title(\"Diagonal view\")\n",
    "    axarr[3].set_axis_off()\n",
    "    return"
   ]
  },
  {
   "cell_type": "code",
   "execution_count": null,
   "id": "9cfc80c8",
   "metadata": {},
   "outputs": [],
   "source": [
    "surf_hexa = graphene(vacuum=8)"
   ]
  },
  {
   "cell_type": "code",
   "execution_count": null,
   "id": "b457c1c2",
   "metadata": {},
   "outputs": [],
   "source": [
    "name = 'hexa'\n",
    "print_xyz1(name, surf_hexa)\n",
    "#write(name, surf_hexa, format='cif')"
   ]
  },
  {
   "cell_type": "code",
   "execution_count": null,
   "id": "e08f5cd7",
   "metadata": {},
   "outputs": [],
   "source": [
    "# add N2 molecule\n",
    "mol = molecule('N2')\n",
    "surf_hexa_N2 = surf_hexa.copy()\n",
    "add_adsorbate(surf_hexa_N2, mol, height=3, position=(-0.5,1.5), mol_index=0)\n",
    "print(surf_hexa_N2)"
   ]
  },
  {
   "cell_type": "code",
   "execution_count": null,
   "id": "aca0210f",
   "metadata": {},
   "outputs": [],
   "source": [
    "name = 'surf_hexa_N2'\n",
    "#write(name, surf_hexa_N2, format='cif')\n",
    "print_xyz1(name, surf_hexa_N2)"
   ]
  },
  {
   "cell_type": "code",
   "execution_count": null,
   "id": "1dbc3e5c",
   "metadata": {},
   "outputs": [],
   "source": [
    "# preparation for orthogonal cell\n",
    "from numpy import array, matmul, append, vstack\n",
    "from scipy import linalg"
   ]
  },
  {
   "cell_type": "code",
   "execution_count": null,
   "id": "4d58eddf",
   "metadata": {},
   "outputs": [],
   "source": [
    "# O = P * H #definition of P\n",
    "P =  [[ 1.0,  0.0,  0.0],\n",
    "      [ 1.0,  2.0,  0.0],\n",
    "      [ 0.0,  0.0,  1.0]]\n",
    "P_inv = clean_matrix(linalg.inv(P))\n",
    "\n",
    "print('P = ')\n",
    "print(P)\n",
    "print('P_inv = ')\n",
    "print(P_inv)"
   ]
  },
  {
   "cell_type": "code",
   "execution_count": null,
   "id": "b0ae0ae3",
   "metadata": {
    "scrolled": false
   },
   "outputs": [],
   "source": [
    "#print(surf_hexa)\n",
    "#print(surf_hexa_N2)\n",
    "surf_hexa_use = surf_hexa_N2\n",
    "#H = surf_hexa_N2.get_cell()[:3, :3]\n",
    "H = surf_hexa_use\n",
    "print('H_cell = ')\n",
    "print(H.cell)"
   ]
  },
  {
   "cell_type": "code",
   "execution_count": null,
   "id": "3d611c72",
   "metadata": {},
   "outputs": [],
   "source": [
    "O_cell = matmul(P,H.cell) # Transformation from hexagonal to orthogonal\n",
    "print('O_cell =')\n",
    "print(O_cell)"
   ]
  },
  {
   "cell_type": "code",
   "execution_count": null,
   "id": "b4073fcd",
   "metadata": {},
   "outputs": [],
   "source": [
    "# LAT: this cell looks OK \n",
    "H_pos_cart = H.positions\n",
    "\n",
    "print('H.positions = ')\n",
    "print(H.positions)\n",
    "print('H.get_scaled_positions = ')\n",
    "print(H.get_scaled_positions())\n",
    "\n",
    "H_pos_frac = matmul(H_pos_cart, linalg.inv(H.cell))\n",
    "\n",
    "print('H_pos_cartesian = ')\n",
    "print(H_pos_cart)\n",
    "\n",
    "print('H_pos_fractional = ')\n",
    "print(H_pos_frac)"
   ]
  },
  {
   "cell_type": "code",
   "execution_count": null,
   "id": "9343aad4",
   "metadata": {},
   "outputs": [],
   "source": [
    "O_pos_frac = matmul(H_pos_frac,P_inv)\n",
    "O_pos_cart = matmul(O_pos_frac,O_cell)\n",
    "\n",
    "print('O_pos_fractional = ')\n",
    "print(O_pos_frac)\n",
    "print('O_pos_cartesian = ')\n",
    "print(O_pos_cart)"
   ]
  },
  {
   "cell_type": "code",
   "execution_count": null,
   "id": "4f2d9517",
   "metadata": {},
   "outputs": [],
   "source": [
    "# To duplicate in the (x,y) plan use the translation vector (frac. coord)\n",
    "pos_trans = array([0.5,0.5,0.0])\n",
    "\n",
    "# To extract number of pos\n",
    "n_pos, tmp, = O_pos_frac.shape\n",
    "\n",
    "# Loop over pos, duplicate and append in O_pos_frac\n",
    "for n in range(n_pos):\n",
    "    O_pos_dupl = O_pos_frac[n,:] + pos_trans\n",
    "    O_pos_frac = vstack([O_pos_frac,O_pos_dupl])\n",
    "print(O_pos_frac)\n",
    "\n",
    "# Compute Cartesian coord. again\n",
    "O_pos_cart = matmul(O_pos_frac,O_cell)\n",
    "print(O_pos_cart)\n",
    "\n",
    "# Duplicate symbols:\n",
    "symbols_dupl = H.symbols\n",
    "symbols_dupl = str(symbols_dupl)*2\n",
    "print(symbols_dupl)"
   ]
  },
  {
   "cell_type": "code",
   "execution_count": null,
   "id": "ca2fbf20",
   "metadata": {},
   "outputs": [],
   "source": [
    "# combine the avobe / now use duplicated symbols\n",
    "from ase import Atoms\n",
    "Ortho = Atoms(symbols      = symbols_dupl,\n",
    "                  positions= O_pos_cart,\n",
    "                  cell     = O_cell,\n",
    "                  pbc      = H.pbc)\n",
    "\n",
    "# wrap positions into the unit cell\n",
    "Ortho_wrap = Ortho.copy()\n",
    "Ortho_wrap.wrap()"
   ]
  },
  {
   "cell_type": "code",
   "execution_count": null,
   "id": "d5785a26",
   "metadata": {},
   "outputs": [],
   "source": [
    "print(Ortho.positions)\n",
    "print_xyz1('surf_hexa_N2', surf_hexa_N2)\n",
    "print_xyz2('Ortho', Ortho)\n",
    "print_xyz2('Ortho_wrap', Ortho_wrap)"
   ]
  },
  {
   "cell_type": "code",
   "execution_count": null,
   "id": "2147f5ed",
   "metadata": {},
   "outputs": [],
   "source": []
  }
 ],
 "metadata": {
  "kernelspec": {
   "display_name": "Python 3 (ipykernel)",
   "language": "python",
   "name": "python3"
  },
  "language_info": {
   "codemirror_mode": {
    "name": "ipython",
    "version": 3
   },
   "file_extension": ".py",
   "mimetype": "text/x-python",
   "name": "python",
   "nbconvert_exporter": "python",
   "pygments_lexer": "ipython3",
   "version": "3.10.5"
  }
 },
 "nbformat": 4,
 "nbformat_minor": 5
}
