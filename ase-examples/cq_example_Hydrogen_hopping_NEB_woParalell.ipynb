{
 "cells": [
  {
   "cell_type": "code",
   "execution_count": null,
   "id": "78374079",
   "metadata": {},
   "outputs": [],
   "source": [
    "import os\n",
    "from ase.io import read, write\n",
    "\n",
    "from ase.neb import NEB\n",
    "from ase.optimize import BFGS, FIRE"
   ]
  },
  {
   "cell_type": "code",
   "execution_count": null,
   "id": "f25edb1c",
   "metadata": {},
   "outputs": [],
   "source": [
    "initial_image_path = 'struct/'\n",
    "final_image_path = 'struct/'"
   ]
  },
  {
   "cell_type": "code",
   "execution_count": null,
   "id": "f14f69b5",
   "metadata": {},
   "outputs": [],
   "source": [
    "os.environ['ASE_CONQUEST_COMMAND'] = 'mpirun -np 10 /opt/chemistry/conquest/dev/bin/Conquest'\n",
    "os.environ['CQ_PP_PATH'] = '/opt/chemistry/conquest/dev/pseudo-and-pao/'\n",
    "os.environ['CQ_GEN_BASIS_CMD'] = 'mpirun -np 1 /opt/chemistry/conquest/dev/bin/MakeIonFiles'"
   ]
  },
  {
   "cell_type": "code",
   "execution_count": null,
   "id": "4af6d51d",
   "metadata": {},
   "outputs": [],
   "source": [
    "xc         = 'PBE'\n",
    "basis_size = 'medium'\n",
    "cutoff = 100.0\n",
    "kpoints = [4,4,1]"
   ]
  },
  {
   "cell_type": "code",
   "execution_count": null,
   "id": "a71e20a1",
   "metadata": {},
   "outputs": [],
   "source": [
    "# basis = {\n",
    "#          'Cu': {'file'            : 'Cu_PBE.ion'},\n",
    "#          'O' : { 'file'            : 'O_PBE.ion' },             \n",
    "#          'H' : { 'file'            : 'H_PBE.ion'},\n",
    "#          'C' : { 'file'            : 'C_PBE.ion' },         \n",
    "#           }\n",
    "\n",
    "\n",
    "basis = {\n",
    "         'Cu': {'gen_basis'            : True,\n",
    "                'basis_size'           : basis_size,\n",
    "                \"pseudopotential_type\": 'hamann',\n",
    "                'xc'                   : xc,\n",
    "                },\n",
    "         'O' : { 'gen_basis'            : True,\n",
    "                 'basis_size'           : basis_size,\n",
    "                 'pseudopotential_type' : 'hamann',\n",
    "                 'xc'                   : xc },             \n",
    "         'H' : { 'gen_basis'            : True,\n",
    "                 'basis_size'           : basis_size,\n",
    "                 'pseudopotential_type' : 'hamann',\n",
    "                 'xc'                   : xc },\n",
    "         'C' : { 'gen_basis'            : True,\n",
    "                 'basis_size'           : basis_size,\n",
    "                 'pseudopotential_type' : 'hamann',\n",
    "                 'xc'                   : xc },         \n",
    "          }"
   ]
  },
  {
   "cell_type": "code",
   "execution_count": null,
   "id": "f31359f8",
   "metadata": {},
   "outputs": [],
   "source": [
    "from ase.calculators.conquest import Conquest\n",
    "\n",
    "conquest_flags = {'IO.WriteOutToASEFile': True}\n",
    "\n",
    "# Flags for atomic positions optimisation\n",
    "conquest_flags.update({'AtomMove.TypeOfRun'   : 'static',  # optimization algorithm\n",
    "                       'AtomMove.MaxForceTol' :  5e-3,   # max Force component in Ha/bohr                       \n",
    "                       'AtomMove.ReuseDM'     :  True,    \n",
    "                       'AtomMove.AppendCoords':  True,\n",
    "                       'AtomMove.WriteXSF'  :  True,\n",
    "                       })   "
   ]
  },
  {
   "cell_type": "code",
   "execution_count": null,
   "id": "b966c833",
   "metadata": {},
   "outputs": [],
   "source": [
    "# Set initial/final structures\n",
    "initial = read(initial_image_path + 'ini.traj') # Use .traj file (not .xsf file) because it contains energy information of the structure\n",
    "final = read(final_image_path + 'fin.traj')"
   ]
  },
  {
   "cell_type": "code",
   "execution_count": null,
   "id": "d2ed5fc3",
   "metadata": {},
   "outputs": [],
   "source": [
    "# Adjust the position of the structures\n",
    "thr = 0.01\n",
    "\n",
    "\n",
    "\n",
    "atom_exceed_x = [i for i in range(len(initial.positions)) if float(initial.positions[i,0]) > initial.cell[0,0]-thr]\n",
    "for i in atom_exceed_x:\n",
    "    initial.positions[i,0] = initial.positions[i,0] -initial.cell[0,0]\n",
    "    \n",
    "atom_exceed_y = [i for i in range(len(initial.positions)) if float(initial.positions[i,1]) > initial.cell[1,1]-thr]\n",
    "for i in atom_exceed_y:\n",
    "    initial.positions[i,1] = initial.positions[i,1] -initial.cell[1,1]\n",
    "\n",
    "atom_exceed_x = [i for i in range(len(final.positions)) if float(final.positions[i,0]) > final.cell[0,0]-thr]\n",
    "for i in atom_exceed_x:\n",
    "    final.positions[i,0] = final.positions[i,0] -final.cell[0,0]\n",
    "    \n",
    "atom_exceed_y = [i for i in range(len(final.positions)) if float(final.positions[i,1]) > final.cell[1,1]-thr]\n",
    "for i in atom_exceed_y:\n",
    "    final.positions[i,1] = final.positions[i,1] -final.cell[1,1]"
   ]
  },
  {
   "cell_type": "code",
   "execution_count": null,
   "id": "27630882",
   "metadata": {},
   "outputs": [],
   "source": [
    "# Set number of image between initial and final\n",
    "n_img = 3"
   ]
  },
  {
   "cell_type": "code",
   "execution_count": null,
   "id": "e16ea525",
   "metadata": {},
   "outputs": [],
   "source": [
    "# Make a band consisting of 5 images:\n",
    "images = [initial]\n",
    "images += [initial.copy() for i in range(n_img)]\n",
    "images += [final]"
   ]
  },
  {
   "cell_type": "code",
   "execution_count": null,
   "id": "bf015f85",
   "metadata": {},
   "outputs": [],
   "source": [
    "for image in images:\n",
    "    image.calc = Conquest(directory      = f'neb_img',\n",
    "                          grid_cutoff    = cutoff,\n",
    "                          scf_tolerance=5.0e-8,  # Ha\n",
    "                          self_consistent= True,\n",
    "                          xc    = xc,\n",
    "                          basis = basis,\n",
    "                          kpts  = kpoints,\n",
    "                          label = f'NEB_calc',\n",
    "                          nspin = 1,\n",
    "                          **conquest_flags)"
   ]
  },
  {
   "cell_type": "code",
   "execution_count": null,
   "id": "55d03c5f",
   "metadata": {},
   "outputs": [],
   "source": [
    "# Set neb\n",
    "neb = NEB(images, climb=True)\n",
    "\n",
    "# Interpolate linearly the potisions of the three middle images:\n",
    "neb.interpolate()"
   ]
  },
  {
   "cell_type": "code",
   "execution_count": null,
   "id": "d246a8e4",
   "metadata": {},
   "outputs": [],
   "source": [
    "# Start calculation\n",
    "optimizer = BFGS(neb, trajectory='neb_BFGS.traj')\n",
    "optimizer.run(fmax=5e-3) # fmax should be same value for optimization of initial/final structure."
   ]
  }
 ],
 "metadata": {
  "kernelspec": {
   "display_name": "Python 3 (ipykernel)",
   "language": "python",
   "name": "python3"
  },
  "language_info": {
   "codemirror_mode": {
    "name": "ipython",
    "version": 3
   },
   "file_extension": ".py",
   "mimetype": "text/x-python",
   "name": "python",
   "nbconvert_exporter": "python",
   "pygments_lexer": "ipython3",
   "version": "3.10.5"
  }
 },
 "nbformat": 4,
 "nbformat_minor": 5
}
