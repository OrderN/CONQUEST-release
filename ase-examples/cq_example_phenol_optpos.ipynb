{
 "cells": [
  {
   "cell_type": "markdown",
   "metadata": {},
   "source": [
    "## Example for phenol atomic positions optimization (in a box) using Conquest"
   ]
  },
  {
   "cell_type": "code",
   "execution_count": 1,
   "metadata": {},
   "outputs": [],
   "source": [
    "import os\n",
    "import shutil\n",
    "import subprocess\n",
    "import matplotlib.pyplot as plt\n",
    "\n",
    "from distutils.spawn import find_executable\n",
    "from numpy import amax, amin, matmul, exp, pi, array, zeros, sqrt\n",
    "\n",
    "from ase.calculators.conquest import Conquest\n",
    "from ase.units import Rydberg\n",
    "from ase.build import bulk\n",
    "from ase.dft.bandgap import bandgap\n",
    "from ase.io import read\n",
    "\n",
    "from ase import Atoms\n",
    "from ase.spacegroup import crystal\n",
    "\n",
    "from cq_ase_external_lib import print_struct_data\n",
    "from cq_ase_external_lib import print_occ, get_gapwind\n",
    "from cq_ase_external_lib import cq_postproc_xsf, cq_print_output_data\n",
    "from cq_ase_external_lib import read_conquest, conquest_orthorhombic_check"
   ]
  },
  {
   "cell_type": "code",
   "execution_count": 2,
   "metadata": {},
   "outputs": [
    {
     "name": "stdout",
     "output_type": "stream",
     "text": [
      "ase-3.23.0b1\n"
     ]
    }
   ],
   "source": [
    "%%bash \n",
    "ase --version"
   ]
  },
  {
   "cell_type": "markdown",
   "metadata": {},
   "source": [
    "#### Check if visualisation tools are installed"
   ]
  },
  {
   "cell_type": "code",
   "execution_count": 3,
   "metadata": {},
   "outputs": [
    {
     "name": "stdout",
     "output_type": "stream",
     "text": [
      "xcrysden found\n",
      "VESTA found\n",
      "VMDLauncher not found\n"
     ]
    }
   ],
   "source": [
    "# Add exe name \n",
    "cmd_vis = {'xcrysden' : False}\n",
    "\n",
    "for cmd, state in cmd_vis.items():\n",
    "    if ( not shutil.which(cmd) ):\n",
    "        print('{} not found'.format(cmd))\n",
    "    else:\n",
    "        print('{} found'.format(cmd))   \n",
    "        cmd_vis[cmd] = True\n",
    "        \n",
    "# For MacOSX add the path of the name of the app\n",
    "cmd_app = {'VESTA'      : '/Applications/VESTA/VESTA.app/Contents/MacOS/VESTA',\n",
    "           'VMDLauncher': '/Applications/VMD_1.9.2.app/Contents/MacOS/VMDLauncher'}\n",
    "\n",
    "for cmd, path in cmd_app.items():\n",
    "    if ( not find_executable(path) ):\n",
    "        print('{} not found'.format(cmd))\n",
    "    else:\n",
    "        print('{} found'.format(cmd))   "
   ]
  },
  {
   "cell_type": "markdown",
   "metadata": {},
   "source": [
    "#### Define Conquest environment"
   ]
  },
  {
   "cell_type": "code",
   "execution_count": 4,
   "metadata": {},
   "outputs": [],
   "source": [
    "CQ_ROOT = '/Users/lioneltruflandier/CONQUEST-develop'\n",
    "os.environ['ASE_CONQUEST_COMMAND'] = 'mpirun -np 4 '+CQ_ROOT+'/src/Conquest'\n",
    "os.environ['CQ_PP_PATH'] = CQ_ROOT+'/pseudo-and-pao/'\n",
    "os.environ['CQ_GEN_BASIS_CMD'] = CQ_ROOT+'/tools/BasisGeneration/MakeIonFiles'"
   ]
  },
  {
   "cell_type": "markdown",
   "metadata": {},
   "source": [
    "#### Directory for storing calculation files"
   ]
  },
  {
   "cell_type": "code",
   "execution_count": 5,
   "metadata": {},
   "outputs": [],
   "source": [
    "working_directory = 'cq_example_phenol_optpos'\n",
    "\n",
    "# Test if `working_directory` exists ? If not create it\n",
    "if ( not os.path.isdir(working_directory) ):\n",
    "    os.makedirs(working_directory)"
   ]
  },
  {
   "cell_type": "markdown",
   "metadata": {},
   "source": [
    "####  Build ASE `Atoms` for C$_6$H$_{5}$OH in a box"
   ]
  },
  {
   "cell_type": "markdown",
   "metadata": {},
   "source": [
    "- Load structure of C$_6$H$_{5}$OH from `PDB` file "
   ]
  },
  {
   "cell_type": "code",
   "execution_count": 6,
   "metadata": {},
   "outputs": [
    {
     "name": "stdout",
     "output_type": "stream",
     "text": [
      "n atoms = 13 ?\n"
     ]
    }
   ],
   "source": [
    "struct = read('./struct/phenol.pdb')\n",
    "\n",
    "print('n atoms = {} ?'.format(len(struct)))"
   ]
  },
  {
   "cell_type": "markdown",
   "metadata": {},
   "source": [
    "- Cell parameters in Ang. and deg. [a, b, c, alpha, beta, gamma]. Cell size should be cubic $8\\times8\\times8$ Ang."
   ]
  },
  {
   "cell_type": "code",
   "execution_count": 7,
   "metadata": {},
   "outputs": [],
   "source": [
    "a = 10.0\n",
    "b = a\n",
    "c = a\n",
    "alpha = 90.0\n",
    "beta  = 90.0\n",
    "gamma = 90.0\n",
    "\n",
    "cell = [a,b,c,alpha,beta,gamma]"
   ]
  },
  {
   "cell_type": "markdown",
   "metadata": {},
   "source": [
    "- Generate the `Atoms` object and store in `struct` "
   ]
  },
  {
   "cell_type": "code",
   "execution_count": 8,
   "metadata": {},
   "outputs": [],
   "source": [
    "struct = Atoms(struct,cell=cell,pbc=[True,True,True])\n",
    "\n",
    "# Conquest can only handle orthorhombic cells\n",
    "struct = conquest_orthorhombic_check(struct,verbose=True)"
   ]
  },
  {
   "cell_type": "markdown",
   "metadata": {},
   "source": [
    "- Extract and print main structural data from input structure `struct`"
   ]
  },
  {
   "cell_type": "code",
   "execution_count": 9,
   "metadata": {},
   "outputs": [
    {
     "name": "stdout",
     "output_type": "stream",
     "text": [
      "Cartesian atomic positions (Ang.)\n",
      "  C       0.000000      0.000000      0.000000\n",
      "  C       0.000000      0.000000      1.400000\n",
      "  C       1.212000      0.000000      2.100000\n",
      "  C       2.425000      0.000000      1.400000\n",
      "  C       2.425000      0.000000      0.000000\n",
      "  C       1.212000      0.000000     -0.700000\n",
      "  H      -0.943000      0.000000      1.944000\n",
      "  H       1.212000      0.000000      3.189000\n",
      "  H       3.368000      0.000000      1.944000\n",
      "  H       3.368000      0.000000     -0.545000\n",
      "  H       1.212000      0.000000     -1.789000\n",
      "  O      -1.224000     -0.021000     -0.679000\n",
      "  H      -1.067000     -0.018000     -1.615000\n",
      "\n",
      "Fractional atomic positions (Adim.)\n",
      "  C       0.000000      0.000000      0.000000\n",
      "  C       0.000000      0.000000      0.140000\n",
      "  C       0.121200      0.000000      0.210000\n",
      "  C       0.242500      0.000000      0.140000\n",
      "  C       0.242500      0.000000      0.000000\n",
      "  C       0.121200      0.000000     -0.070000\n",
      "  H      -0.094300      0.000000      0.194400\n",
      "  H       0.121200      0.000000      0.318900\n",
      "  H       0.336800      0.000000      0.194400\n",
      "  H       0.336800      0.000000     -0.054500\n",
      "  H       0.121200      0.000000     -0.178900\n",
      "  O      -0.122400     -0.002100     -0.067900\n",
      "  H      -0.106700     -0.001800     -0.161500\n",
      "\n",
      "Cell tensor (Ang.)\n",
      "         10.000000      0.000000      0.000000\n",
      "          0.000000     10.000000      0.000000\n",
      "          0.000000      0.000000     10.000000\n",
      "\n",
      "Cartesian atomic positions (Ang.) from cell tensor\n",
      "  C       0.000000      0.000000      0.000000\n",
      "  C       0.000000      0.000000      1.400000\n",
      "  C       1.212000      0.000000      2.100000\n",
      "  C       2.425000      0.000000      1.400000\n",
      "  C       2.425000      0.000000      0.000000\n",
      "  C       1.212000      0.000000     -0.700000\n",
      "  H      -0.943000      0.000000      1.944000\n",
      "  H       1.212000      0.000000      3.189000\n",
      "  H       3.368000      0.000000      1.944000\n",
      "  H       3.368000      0.000000     -0.545000\n",
      "  H       1.212000      0.000000     -1.789000\n",
      "  O      -1.224000     -0.021000     -0.679000\n",
      "  H      -1.067000     -0.018000     -1.615000\n",
      "\n",
      "Cell parameters (Ang. and degree)\n",
      "  a =      10.000000\n",
      "  b =      10.000000\n",
      "  c =      10.000000\n",
      "  alpha =  90.0000\n",
      "  beta  =  90.0000\n",
      "  gamma =  90.0000\n"
     ]
    },
    {
     "name": "stderr",
     "output_type": "stream",
     "text": [
      "/Users/lioneltruflandier/Conquest-ase/ase-Conquest/ase/utils/__init__.py:62: FutureWarning: Please use atoms.cell.cellpar() instead\n",
      "  warnings.warn(warning)\n"
     ]
    }
   ],
   "source": [
    "print_struct_data(struct,verbose=1)"
   ]
  },
  {
   "cell_type": "markdown",
   "metadata": {},
   "source": [
    "- Save input `struct` in CIF and XSF format "
   ]
  },
  {
   "cell_type": "code",
   "execution_count": 10,
   "metadata": {},
   "outputs": [],
   "source": [
    "struct.write(working_directory+'/input.xsf')\n",
    "struct.write(working_directory+'/input.cif')"
   ]
  },
  {
   "cell_type": "markdown",
   "metadata": {},
   "source": [
    "- run `VESTA` to check input structure (if possible)"
   ]
  },
  {
   "cell_type": "code",
   "execution_count": 11,
   "metadata": {},
   "outputs": [
    {
     "name": "stderr",
     "output_type": "stream",
     "text": [
      "2023-07-24 18:31:10.379 VESTA[74288:2929232] It's not legal to call -layoutSubtreeIfNeeded on a view which is already being laid out.  If you are implementing the view's -layout method, you can call -[super layout] instead. Break on void _NSDetectedLayoutRecursion(void) to debug.  This will be logged only once.  This may break in the future.\n"
     ]
    }
   ],
   "source": [
    "if ( 'VESTA' in cmd_app ):\n",
    "    subprocess.run([cmd_app['VESTA'], working_directory+'/'+'input.cif'])"
   ]
  },
  {
   "cell_type": "markdown",
   "metadata": {},
   "source": [
    "#### Setup Conquest atomic basis set"
   ]
  },
  {
   "cell_type": "code",
   "execution_count": 15,
   "metadata": {},
   "outputs": [],
   "source": [
    "basis = {\n",
    "         'O' : { 'gen_basis'            : True,\n",
    "                 'basis_size'           : 'small',\n",
    "                 'pseudopotential_type' : 'hamann',\n",
    "                 'xc'                   : 'PBE' },             \n",
    "         'H' : { 'gen_basis'            : True,\n",
    "                 'basis_size'           : 'small',\n",
    "                 'pseudopotential_type' : 'hamann',\n",
    "                 'xc'                   : 'PBE' },\n",
    "         'C' : { 'gen_basis'            : True,\n",
    "                 'basis_size'           : 'small',\n",
    "                 'pseudopotential_type' : 'hamann',\n",
    "                 'xc'                   : 'PBE' },         \n",
    "          }"
   ]
  },
  {
   "cell_type": "markdown",
   "metadata": {},
   "source": [
    "#### Setup calculation using Conquest as calculator"
   ]
  },
  {
   "cell_type": "code",
   "execution_count": 16,
   "metadata": {},
   "outputs": [
    {
     "name": "stdout",
     "output_type": "stream",
     "text": [
      "input basis:\n",
      "O {'gen_basis': False, 'basis_size': 'small', 'pseudopotential_type': 'hamann', 'xc': 'PBE'}\n",
      "input basis:\n",
      "H {'gen_basis': False, 'basis_size': 'small', 'pseudopotential_type': 'hamann', 'xc': 'PBE'}\n",
      "input basis:\n",
      "C {'gen_basis': False, 'basis_size': 'small', 'pseudopotential_type': 'hamann', 'xc': 'PBE'}\n"
     ]
    }
   ],
   "source": [
    "cutoff  =  90.0\n",
    "kpoints = [1,1,1]\n",
    "fxc     = 'PBE'\n",
    "\n",
    "conquest_flags = {'IO.WriteOutToASEFile': True}\n",
    "\n",
    "# Flags for atomic positions optimisation\n",
    "conquest_flags.update({'AtomMove.TypeOfRun'   : 'sqnm',  # optimization algorithm\n",
    "                       'AtomMove.MaxForceTol' :  5e-3,   # max Force component in Ha/bohr                       \n",
    "                       'AtomMove.ReuseDM'     :  True,    \n",
    "                       'AtomMove.AppendCoords':  True,\n",
    "                       })    \n",
    "\n",
    "calc = Conquest(directory      = working_directory,\n",
    "                grid_cutoff    = cutoff,\n",
    "                self_consistent= True,\n",
    "                xc    = fxc,\n",
    "                basis = basis,\n",
    "                kpts  = kpoints,\n",
    "                nspin = 1,\n",
    "                **conquest_flags)\n",
    "\n",
    "struct.calc = calc"
   ]
  },
  {
   "cell_type": "markdown",
   "metadata": {},
   "source": [
    "#### Launch structure optimization"
   ]
  },
  {
   "cell_type": "code",
   "execution_count": 17,
   "metadata": {
    "scrolled": true
   },
   "outputs": [
    {
     "name": "stdout",
     "output_type": "stream",
     "text": [
      "Try to find H.ion in /Users/lioneltruflandier/CONQUEST-develop/pseudo-and-pao/H.ion... Not found\n",
      "Try to find H.ion in /Users/lioneltruflandier/CONQUEST-develop/pseudo-and-pao/lib/H.ion... Not found\n",
      "Try to find H.ion in /Users/lioneltruflandier/CONQUEST-develop/pseudo-and-pao/PBE/H/H.ion... Not found\n",
      "Try to find H.ion in H.ion... Not found\n",
      "Try to find H.ion in cq_example_phenol_optpos/H.ion... Found\n",
      "## ConquestWarning ##\n",
      "file: /Users/lioneltruflandier/Conquest-ase/ase-Conquest/ase/calculators/conquest.py , line: 283\n",
      ">>>>  cq_example_phenol_optpos/H.ion copied into cq_example_phenol_optpos/H.ion\n",
      "Try to find C.ion in /Users/lioneltruflandier/CONQUEST-develop/pseudo-and-pao/C.ion... Not found\n",
      "Try to find C.ion in /Users/lioneltruflandier/CONQUEST-develop/pseudo-and-pao/lib/C.ion... Not found\n",
      "Try to find C.ion in /Users/lioneltruflandier/CONQUEST-develop/pseudo-and-pao/PBE/C/C.ion... Not found\n",
      "Try to find C.ion in C.ion... Not found\n",
      "Try to find C.ion in cq_example_phenol_optpos/C.ion... Found\n",
      "## ConquestWarning ##\n",
      "file: /Users/lioneltruflandier/Conquest-ase/ase-Conquest/ase/calculators/conquest.py , line: 283\n",
      ">>>>  cq_example_phenol_optpos/C.ion copied into cq_example_phenol_optpos/C.ion\n",
      "Try to find O.ion in /Users/lioneltruflandier/CONQUEST-develop/pseudo-and-pao/O.ion... Not found\n",
      "Try to find O.ion in /Users/lioneltruflandier/CONQUEST-develop/pseudo-and-pao/lib/O.ion... Not found\n",
      "Try to find O.ion in /Users/lioneltruflandier/CONQUEST-develop/pseudo-and-pao/PBE/O/O.ion... Not found\n",
      "Try to find O.ion in O.ion... Not found\n",
      "Try to find O.ion in cq_example_phenol_optpos/O.ion... Found\n",
      "## ConquestWarning ##\n",
      "file: /Users/lioneltruflandier/Conquest-ase/ase-Conquest/ase/calculators/conquest.py , line: 283\n",
      ">>>>  cq_example_phenol_optpos/O.ion copied into cq_example_phenol_optpos/O.ion\n"
     ]
    }
   ],
   "source": [
    "dft_energy = struct.get_potential_energy()"
   ]
  },
  {
   "cell_type": "markdown",
   "metadata": {},
   "source": [
    "#### Post-process `trajectory.xsf` file generated by Conquest and save `struct_last` in CIF and XSF format\n",
    "- `trajectory.xsf` is processed in order to have a `axsf` movie \n",
    "\n",
    "> `cq_postproc_xsf`return an Atoms ASE object `struct_last`"
   ]
  },
  {
   "cell_type": "code",
   "execution_count": 18,
   "metadata": {},
   "outputs": [
    {
     "name": "stdout",
     "output_type": "stream",
     "text": [
      "WARNING: cq_example_phenol_optpos/trajectory.xsf already post-processed...\n"
     ]
    }
   ],
   "source": [
    "traj_file='trajectory.xsf'\n",
    "traj_file=working_directory+'/'+traj_file\n",
    "\n",
    "if ( os.path.isfile(traj_file) ):\n",
    "    # cq_postproc_xsf output last structure from xsf file\n",
    "    struct_last = cq_postproc_xsf(traj_file,len(struct))\n",
    "    \n",
    "    struct_last.write(working_directory+'/output.cif')\n",
    "    struct_last.write(working_directory+'/output.xsf')    \n",
    "else:\n",
    "    print('WARNING: {} not found !'.format(traj_file))\n"
   ]
  },
  {
   "cell_type": "markdown",
   "metadata": {},
   "source": [
    "- or extract last structure from Conquest file `coord_next.dat` \n",
    "> you need to provide `atomic_order` as in the Conquest input file"
   ]
  },
  {
   "cell_type": "code",
   "execution_count": null,
   "metadata": {},
   "outputs": [],
   "source": [
    "last_struct='coord_next.dat'\n",
    "last_struct=working_directory+'/'+last_struct\n",
    "\n",
    "if( os.path.isfile(last_struct) ):\n",
    "\n",
    "    struct_last = read_conquest(last_struct, fractional=True, atomic_order=['H','C','O'])\n",
    "    \n",
    "    struct_last.write(working_directory+'/output_.cif')\n",
    "    struct_last.write(working_directory+'/output_.xsf')\n",
    "    \n",
    "else:\n",
    "    print('WARNING: {} not found !'.format(traj_file))"
   ]
  },
  {
   "cell_type": "markdown",
   "metadata": {},
   "source": [
    "- run `xcrysden` to visualize the optimization movie (if possible)"
   ]
  },
  {
   "cell_type": "code",
   "execution_count": null,
   "metadata": {},
   "outputs": [],
   "source": [
    "if ( cmd_vis['xcrysden'] and os.path.isfile(traj_file) ):\n",
    "    subprocess.run(['xcrysden', '--axsf', traj_file])"
   ]
  },
  {
   "cell_type": "markdown",
   "metadata": {},
   "source": [
    "#### Read Conquest output results and print the data"
   ]
  },
  {
   "cell_type": "code",
   "execution_count": null,
   "metadata": {},
   "outputs": [],
   "source": [
    "struct.calc.read_results(struct)\n",
    "\n",
    "cq_print_output_data(struct,2)"
   ]
  },
  {
   "cell_type": "markdown",
   "metadata": {},
   "source": [
    "#### Extract and print main structural data from optimized structure `last_struct`"
   ]
  },
  {
   "cell_type": "code",
   "execution_count": null,
   "metadata": {},
   "outputs": [],
   "source": [
    "print_struct_data(struct_last,verbose=1)"
   ]
  },
  {
   "cell_type": "markdown",
   "metadata": {},
   "source": [
    "#### Extract Fermi energy, band gap and energy levels"
   ]
  },
  {
   "cell_type": "code",
   "execution_count": null,
   "metadata": {},
   "outputs": [],
   "source": [
    "# Fermi energy as evaluated in Conquest code 'Fermi energy for spin'\n",
    "fermi_energy = calc.get_fermi_level()\n",
    "eigenvalues  = calc.get_eigenvalues()\n",
    "\n",
    "print('Total electronic energy = {:14.6f} eV'.format(dft_energy))\n",
    "print('Fermi energy            = {:14.6f} eV'.format(fermi_energy))\n",
    "print_occ(eigenvalues,fermi_energy,0.01,method='aufbau',label='G')\n",
    "\n",
    "# Evaluate band gap\n",
    "gap, p1, p2  = bandgap(struct.calc,efermi=fermi_energy,direct=True)"
   ]
  },
  {
   "cell_type": "markdown",
   "metadata": {},
   "source": [
    "## "
   ]
  },
  {
   "cell_type": "code",
   "execution_count": null,
   "metadata": {},
   "outputs": [],
   "source": []
  }
 ],
 "metadata": {
  "kernelspec": {
   "display_name": "Python 3 (ipykernel)",
   "language": "python",
   "name": "python3"
  },
  "language_info": {
   "codemirror_mode": {
    "name": "ipython",
    "version": 3
   },
   "file_extension": ".py",
   "mimetype": "text/x-python",
   "name": "python",
   "nbconvert_exporter": "python",
   "pygments_lexer": "ipython3",
   "version": "3.9.13"
  }
 },
 "nbformat": 4,
 "nbformat_minor": 4
}
