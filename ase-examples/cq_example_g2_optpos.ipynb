{
 "cells": [
  {
   "cell_type": "markdown",
   "metadata": {},
   "source": [
    "## Example for PH$_3$ grom G2 test set optimization (in a box) using Conquest"
   ]
  },
  {
   "cell_type": "code",
   "execution_count": null,
   "metadata": {},
   "outputs": [],
   "source": [
    "import os\n",
    "import shutil\n",
    "import subprocess\n",
    "import matplotlib.pyplot as plt\n",
    "\n",
    "from distutils.spawn import find_executable\n",
    "from numpy import amax, amin, matmul, exp, pi, array, zeros, sqrt\n",
    "\n",
    "from ase.calculators.conquest import Conquest\n",
    "from ase.units import Rydberg\n",
    "from ase.build import bulk\n",
    "from ase.dft.bandgap import bandgap\n",
    "from ase.io import read\n",
    "\n",
    "from ase import Atoms\n",
    "from ase.spacegroup import crystal\n",
    "\n",
    "from ase.visualize import view\n",
    "from ase.collections import g2\n",
    "\n",
    "from cq_ase_external_lib import print_struct_data\n",
    "from cq_ase_external_lib import print_occ, get_gapwind\n",
    "from cq_ase_external_lib import cq_postproc_xsf, cq_print_output_data\n",
    "from cq_ase_external_lib import read_conquest, conquest_orthorhombic_check"
   ]
  },
  {
   "cell_type": "code",
   "execution_count": null,
   "metadata": {},
   "outputs": [],
   "source": [
    "%%bash \n",
    "ase --version"
   ]
  },
  {
   "cell_type": "markdown",
   "metadata": {},
   "source": [
    "#### Check if visualisation tools are installed"
   ]
  },
  {
   "cell_type": "code",
   "execution_count": null,
   "metadata": {},
   "outputs": [],
   "source": [
    "# Add exe name \n",
    "cmd_vis = {'xcrysden' : False}\n",
    "\n",
    "for cmd, state in cmd_vis.items():\n",
    "    if ( not shutil.which(cmd) ):\n",
    "        print('{} not found'.format(cmd))\n",
    "    else:\n",
    "        print('{} found'.format(cmd))   \n",
    "        cmd_vis[cmd] = True\n",
    "        \n",
    "# For MacOSX add the path of the name of the app\n",
    "cmd_app = {'VESTA'      : '/Applications/VESTA/VESTA.app/Contents/MacOS/VESTA',\n",
    "           'VMDLauncher': '/Applications/VMD_1.9.2.app/Contents/MacOS/VMDLauncher'}\n",
    "\n",
    "for cmd, path in cmd_app.items():\n",
    "    if ( not find_executable(path) ):\n",
    "        print('{} not found'.format(cmd))\n",
    "    else:\n",
    "        print('{} found'.format(cmd))   "
   ]
  },
  {
   "cell_type": "markdown",
   "metadata": {},
   "source": [
    "#### Define Conquest environment"
   ]
  },
  {
   "cell_type": "code",
   "execution_count": null,
   "metadata": {},
   "outputs": [],
   "source": [
    "CQ_ROOT = '/Users/lioneltruflandier/CONQUEST-develop'\n",
    "os.environ['ASE_CONQUEST_COMMAND'] = 'mpirun -np 4 '+CQ_ROOT+'/src/Conquest'\n",
    "os.environ['CQ_PP_PATH'] = CQ_ROOT+'/pseudo-and-pao/'\n",
    "os.environ['CQ_GEN_BASIS_CMD'] = CQ_ROOT+'/tools/BasisGeneration/MakeIonFiles'"
   ]
  },
  {
   "cell_type": "markdown",
   "metadata": {},
   "source": [
    "#### Directory for storing calculation files"
   ]
  },
  {
   "cell_type": "code",
   "execution_count": null,
   "metadata": {},
   "outputs": [],
   "source": [
    "working_directory = 'cq_example_g2_optpos'\n",
    "\n",
    "# Test if `working_directory` exists ? If not create it\n",
    "if ( not os.path.isdir(working_directory) ):\n",
    "    os.makedirs(working_directory)"
   ]
  },
  {
   "cell_type": "markdown",
   "metadata": {},
   "source": [
    "####  Load ASE `Atoms` object from G2 test set"
   ]
  },
  {
   "cell_type": "markdown",
   "metadata": {},
   "source": [
    "- Load PH$_3$ structure from G2"
   ]
  },
  {
   "cell_type": "code",
   "execution_count": null,
   "metadata": {},
   "outputs": [],
   "source": [
    "#print(g2.names[:])\n",
    "\n",
    "struct = g2['PH3']\n",
    "\n",
    "print('n atoms = {} ?'.format(len(struct)))"
   ]
  },
  {
   "cell_type": "markdown",
   "metadata": {},
   "source": [
    "- Define a box with molecule inside with 5 Ang. of vacuum both sides"
   ]
  },
  {
   "cell_type": "code",
   "execution_count": null,
   "metadata": {},
   "outputs": [],
   "source": [
    "struct.center(vacuum=5.)"
   ]
  },
  {
   "cell_type": "markdown",
   "metadata": {},
   "source": [
    "- Check the system with `view`"
   ]
  },
  {
   "cell_type": "code",
   "execution_count": null,
   "metadata": {},
   "outputs": [],
   "source": [
    "view(struct)\n",
    "view(struct_last,viewer='x3d')"
   ]
  },
  {
   "cell_type": "markdown",
   "metadata": {},
   "source": [
    "- Extract and print main structural data from input structure `struct`"
   ]
  },
  {
   "cell_type": "code",
   "execution_count": null,
   "metadata": {},
   "outputs": [],
   "source": [
    "print_struct_data(struct,verbose=1)"
   ]
  },
  {
   "cell_type": "markdown",
   "metadata": {},
   "source": [
    "- Save input `struct` in CIF and XSF format "
   ]
  },
  {
   "cell_type": "code",
   "execution_count": null,
   "metadata": {},
   "outputs": [],
   "source": [
    "struct.write(working_directory+'/input.xsf')\n",
    "struct.write(working_directory+'/input.cif')"
   ]
  },
  {
   "cell_type": "markdown",
   "metadata": {},
   "source": [
    "- run `VESTA` to check input structure (if possible)"
   ]
  },
  {
   "cell_type": "code",
   "execution_count": null,
   "metadata": {},
   "outputs": [],
   "source": [
    "if ( 'VESTA' in cmd_app ):\n",
    "    subprocess.run([cmd_app['VESTA'], working_directory+'/'+'input.cif'])"
   ]
  },
  {
   "cell_type": "markdown",
   "metadata": {},
   "source": [
    "#### Setup Conquest atomic basis set"
   ]
  },
  {
   "cell_type": "code",
   "execution_count": null,
   "metadata": {},
   "outputs": [],
   "source": [
    "basis = {\n",
    "         'P' : { 'gen_basis'            : True,\n",
    "                 'basis_size'           : 'medium',\n",
    "                 'pseudopotential_type' : 'hamann',\n",
    "                 'xc'                   : 'PBE' },             \n",
    "         'H' : { 'gen_basis'            : True,\n",
    "                 'basis_size'           : 'medium',\n",
    "                 'pseudopotential_type' : 'hamann',\n",
    "                 'xc'                   : 'PBE' },\n",
    "          }"
   ]
  },
  {
   "cell_type": "markdown",
   "metadata": {},
   "source": [
    "#### Setup calculation using Conquest as calculator"
   ]
  },
  {
   "cell_type": "code",
   "execution_count": null,
   "metadata": {},
   "outputs": [],
   "source": [
    "cutoff  =  90.0\n",
    "kpoints = [1,1,1]\n",
    "fxc     = 'PBE'\n",
    "\n",
    "conquest_flags = {'IO.WriteOutToASEFile': True}\n",
    "\n",
    "# Flags for atomic positions optimisation\n",
    "conquest_flags.update({'AtomMove.TypeOfRun'   : 'sqnm',  # optimization algorithm\n",
    "                       'AtomMove.MaxForceTol' :  1e-3,   # max Force component in Ha/bohr                       \n",
    "                       'AtomMove.ReuseDM'     :  True,    \n",
    "                       'AtomMove.AppendCoords':  True,\n",
    "                       })    \n",
    "\n",
    "calc = Conquest(directory      = working_directory,\n",
    "                grid_cutoff    = cutoff,\n",
    "                self_consistent= True,\n",
    "                xc    = fxc,\n",
    "                basis = basis,\n",
    "                kpts  = kpoints,\n",
    "                nspin = 1,\n",
    "                **conquest_flags)\n",
    "\n",
    "struct.calc = calc"
   ]
  },
  {
   "cell_type": "markdown",
   "metadata": {},
   "source": [
    "#### Launch structure optimization"
   ]
  },
  {
   "cell_type": "code",
   "execution_count": null,
   "metadata": {
    "scrolled": true
   },
   "outputs": [],
   "source": [
    "dft_energy = struct.get_potential_energy()"
   ]
  },
  {
   "cell_type": "markdown",
   "metadata": {},
   "source": [
    "#### Extract last structure from Conquest file `coord_next.dat` \n",
    "> you need to provide `atomic_order` as in the Conquest input file"
   ]
  },
  {
   "cell_type": "code",
   "execution_count": null,
   "metadata": {},
   "outputs": [],
   "source": [
    "last_struct='coord_next.dat'\n",
    "last_struct=working_directory+'/'+last_struct\n",
    "\n",
    "if( os.path.isfile(last_struct) ):\n",
    "\n",
    "    struct_last = read_conquest(last_struct, fractional=True, atomic_order=['H','P'])\n",
    "    \n",
    "    struct_last.write(working_directory+'/output_.cif')\n",
    "    struct_last.write(working_directory+'/output_.xsf')\n",
    "    \n",
    "else:\n",
    "    print('WARNING: {} not found !'.format(traj_file))\n",
    "\n",
    "view(struct_last,viewer='x3d')\n",
    "view(struct_last)"
   ]
  },
  {
   "cell_type": "markdown",
   "metadata": {},
   "source": [
    "- Check the molecule with `view`"
   ]
  },
  {
   "cell_type": "code",
   "execution_count": null,
   "metadata": {},
   "outputs": [],
   "source": [
    "view(struct_last)\n",
    "view(struct_last,viewer='x3d')"
   ]
  },
  {
   "cell_type": "markdown",
   "metadata": {},
   "source": [
    "- run `xcrysden` to visualize the optimization movie (if possible)"
   ]
  },
  {
   "cell_type": "code",
   "execution_count": null,
   "metadata": {},
   "outputs": [],
   "source": [
    "if ( cmd_vis['xcrysden'] and os.path.isfile(traj_file) ):\n",
    "    subprocess.run(['xcrysden', '--axsf', traj_file])"
   ]
  },
  {
   "cell_type": "markdown",
   "metadata": {},
   "source": [
    "#### Read Conquest output results and print the data"
   ]
  },
  {
   "cell_type": "code",
   "execution_count": null,
   "metadata": {},
   "outputs": [],
   "source": [
    "struct.calc.read_results(struct)\n",
    "\n",
    "cq_print_output_data(struct,2)"
   ]
  },
  {
   "cell_type": "markdown",
   "metadata": {},
   "source": [
    "#### Extract and print main structural data from optimized structure `last_struct`"
   ]
  },
  {
   "cell_type": "code",
   "execution_count": null,
   "metadata": {},
   "outputs": [],
   "source": [
    "print_struct_data(struct_last,verbose=1)"
   ]
  },
  {
   "cell_type": "markdown",
   "metadata": {},
   "source": [
    "#### Extract Fermi energy, band gap and energy levels"
   ]
  },
  {
   "cell_type": "code",
   "execution_count": null,
   "metadata": {},
   "outputs": [],
   "source": [
    "# Fermi energy as evaluated in Conquest code 'Fermi energy for spin'\n",
    "fermi_energy = calc.get_fermi_level()\n",
    "eigenvalues  = calc.get_eigenvalues()\n",
    "\n",
    "print('Total electronic energy = {:14.6f} eV'.format(dft_energy))\n",
    "print('Fermi energy            = {:14.6f} eV'.format(fermi_energy))\n",
    "print_occ(eigenvalues,fermi_energy,0.01,method='aufbau',label='G')\n",
    "\n",
    "# Evaluate band gap\n",
    "gap, p1, p2  = bandgap(struct.calc,efermi=fermi_energy,direct=True)"
   ]
  },
  {
   "cell_type": "markdown",
   "metadata": {},
   "source": [
    "## "
   ]
  },
  {
   "cell_type": "code",
   "execution_count": null,
   "metadata": {},
   "outputs": [],
   "source": []
  }
 ],
 "metadata": {
  "kernelspec": {
   "display_name": "Python 3 (ipykernel)",
   "language": "python",
   "name": "python3"
  },
  "language_info": {
   "codemirror_mode": {
    "name": "ipython",
    "version": 3
   },
   "file_extension": ".py",
   "mimetype": "text/x-python",
   "name": "python",
   "nbconvert_exporter": "python",
   "pygments_lexer": "ipython3",
   "version": "3.9.13"
  }
 },
 "nbformat": 4,
 "nbformat_minor": 4
}
