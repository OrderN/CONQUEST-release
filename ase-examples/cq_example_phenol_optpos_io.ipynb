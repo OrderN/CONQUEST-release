{
 "cells": [
  {
   "cell_type": "markdown",
   "metadata": {},
   "source": [
    "## IO example for  phenol atomic positions optimization (in a box) using Conquest\n",
    "> The objective is to use ASE for pre-process (building the **I**nput files) and\n",
    "> post-process (having the **O**utput file) a Conquest calculation. \n",
    "> The calculation *must* be run at hand,\n",
    "> that is, the calculation is not launched by ASE."
   ]
  },
  {
   "cell_type": "markdown",
   "metadata": {},
   "source": [
    "<div class=\"alert alert-block alert-danger\">\n",
    "    <b>WARNING:</b> IO example requirements\n",
    "</div>    \n",
    "\n",
    "> `ASE version = 3.20.0b2` including `Conquest`\n"
   ]
  },
  {
   "cell_type": "code",
   "execution_count": null,
   "metadata": {},
   "outputs": [],
   "source": [
    "import os\n",
    "import shutil\n",
    "import subprocess\n",
    "import matplotlib.pyplot as plt\n",
    "\n",
    "from distutils.spawn import find_executable\n",
    "from numpy import amax, amin, matmul, exp, pi, array, zeros, sqrt\n",
    "from scipy.constants import Rydberg\n",
    "\n",
    "from ase.build import bulk\n",
    "from ase.calculators.conquest import Conquest\n",
    "from ase.io.conquest_f_rework_output_ase import read_conquest, read_conquest_out\n",
    "from ase.io.conquest_f_rework_output_ase import Conquest_orthorhombic_check\n",
    "from ase.units import Rydberg\n",
    "\n",
    "from ase.dft.bandgap import bandgap\n",
    "from ase.io import read\n",
    "\n",
    "from ase import Atoms\n",
    "from ase.spacegroup import crystal\n",
    "\n",
    "from cq_ase_external_lib import print_struct_data\n",
    "from cq_ase_external_lib import print_occ, get_gapwind\n",
    "from cq_ase_external_lib import cq_postproc_xsf, cq_print_output_data\n"
   ]
  },
  {
   "cell_type": "code",
   "execution_count": null,
   "metadata": {},
   "outputs": [],
   "source": [
    "%%bash \n",
    "ase --version"
   ]
  },
  {
   "cell_type": "markdown",
   "metadata": {},
   "source": [
    "#### Check if visualisation tools are installed"
   ]
  },
  {
   "cell_type": "code",
   "execution_count": null,
   "metadata": {},
   "outputs": [],
   "source": [
    "# Add exe name \n",
    "cmd_vis = {'xcrysden' : False}\n",
    "\n",
    "for cmd, state in cmd_vis.items():\n",
    "    if ( not shutil.which(cmd) ):\n",
    "        print('{} not found'.format(cmd))\n",
    "    else:\n",
    "        print('{} found'.format(cmd))   \n",
    "        cmd_vis[cmd] = True\n",
    "        \n",
    "# For MacOSX add the path of the name of the app\n",
    "cmd_app = {'VESTA'      : '/Applications/VESTA/VESTA.app/Contents/MacOS/VESTA',\n",
    "           'VMDLauncher': '/Applications/VMD_1.9.2.app/Contents/MacOS/VMDLauncher'}\n",
    "\n",
    "for cmd, path in cmd_app.items():\n",
    "    if ( not find_executable(path) ):\n",
    "        print('{} not found'.format(cmd))\n",
    "    else:\n",
    "        print('{} found'.format(cmd))   "
   ]
  },
  {
   "cell_type": "markdown",
   "metadata": {},
   "source": [
    "#### Define Conquest environment"
   ]
  },
  {
   "cell_type": "code",
   "execution_count": null,
   "metadata": {},
   "outputs": [],
   "source": [
    "os.environ['ASE_CONQUEST_COMMAND'] = 'mpirun -np 4 /Users/lioneltruflandier/CONQUEST-develop/src/Conquest'\n",
    "os.environ['CQ_PP_PATH'] = '/Users/lioneltruflandier/CONQUEST-develop/pseudo-and-pao/'\n",
    "os.environ['CQ_GEN_BASIS_CMD'] = '/Users/lioneltruflandier/CONQUEST-develop/tools/BasisGeneration/MakeIonFiles'"
   ]
  },
  {
   "cell_type": "markdown",
   "metadata": {},
   "source": [
    "#### Directory for storing calculation files"
   ]
  },
  {
   "cell_type": "code",
   "execution_count": null,
   "metadata": {},
   "outputs": [],
   "source": [
    "working_directory = 'cq_example_phenol_optpos_io'\n",
    "\n",
    "# Test if `working_directory` exists ? If not create it\n",
    "if ( not os.path.isdir(working_directory) ):\n",
    "    os.makedirs(working_directory)"
   ]
  },
  {
   "cell_type": "markdown",
   "metadata": {},
   "source": [
    "####  Build ASE `Atoms` for C$_6$H$_{5}$OH in a box"
   ]
  },
  {
   "cell_type": "markdown",
   "metadata": {},
   "source": [
    "- Load structure of C$_6$H$_{5}$OH from `PDB` file "
   ]
  },
  {
   "cell_type": "code",
   "execution_count": null,
   "metadata": {},
   "outputs": [],
   "source": [
    "struct = read('./struct/phenol.pdb',0)\n",
    "\n",
    "print('n atoms = {} ?'.format(len(struct)))"
   ]
  },
  {
   "cell_type": "markdown",
   "metadata": {},
   "source": [
    "- Cell parameters in Ang. and deg. [a, b, c, alpha, beta, gamma]. Cell size should be cubic $8\\times8\\times8$ Ang."
   ]
  },
  {
   "cell_type": "code",
   "execution_count": null,
   "metadata": {},
   "outputs": [],
   "source": [
    "a = 10.0\n",
    "b = a\n",
    "c = a\n",
    "alpha = 90.0\n",
    "beta  = 90.0\n",
    "gamma = 90.0\n",
    "\n",
    "cell = [a,b,c,alpha,beta,gamma]\n"
   ]
  },
  {
   "cell_type": "markdown",
   "metadata": {},
   "source": [
    "- Generate the `Atoms`\n",
    " object and store in `struct` "
   ]
  },
  {
   "cell_type": "code",
   "execution_count": null,
   "metadata": {},
   "outputs": [],
   "source": [
    "struct = Atoms(struct,cell=cell,pbc=[True,True,True])\n",
    "\n",
    "# Conquest can only handle orthorhombic cells\n",
    "struct = Conquest_orthorhombic_check(struct,verbose=True)"
   ]
  },
  {
   "cell_type": "markdown",
   "metadata": {},
   "source": [
    "- Extract and print main structural data from input structure `struct`"
   ]
  },
  {
   "cell_type": "code",
   "execution_count": null,
   "metadata": {},
   "outputs": [],
   "source": [
    "print_struct_data(struct,verbose=1)"
   ]
  },
  {
   "cell_type": "markdown",
   "metadata": {},
   "source": [
    "- Save input `struct` in `CIF` and `XSF` format "
   ]
  },
  {
   "cell_type": "code",
   "execution_count": null,
   "metadata": {},
   "outputs": [],
   "source": [
    "struct.write(working_directory+'/input.xsf')\n",
    "struct.write(working_directory+'/input.cif')"
   ]
  },
  {
   "cell_type": "markdown",
   "metadata": {},
   "source": [
    "- run `VESTA` to check input structure (if possible)"
   ]
  },
  {
   "cell_type": "code",
   "execution_count": null,
   "metadata": {},
   "outputs": [],
   "source": [
    "if ( 'VESTA' in cmd_app ):\n",
    "    subprocess.run([cmd_app['VESTA'], working_directory+'/'+'input.cif'])"
   ]
  },
  {
   "cell_type": "markdown",
   "metadata": {},
   "source": [
    "#### Setup Conquest atomic basis set"
   ]
  },
  {
   "cell_type": "code",
   "execution_count": null,
   "metadata": {},
   "outputs": [],
   "source": [
    "basis = {\n",
    "         'O' : { 'gen_basis'            : True,\n",
    "                 'basis_size'           : 'small',\n",
    "                 'pseudopotential_type' : 'hamann',\n",
    "                 'xc'                   : 'PBE' },             \n",
    "         'H' : { 'gen_basis'            : True,\n",
    "                 'basis_size'           : 'small',\n",
    "                 'pseudopotential_type' : 'hamann',\n",
    "                 'xc'                   : 'PBE' },\n",
    "         'C' : { 'gen_basis'            : True,\n",
    "                 'basis_size'           : 'small',\n",
    "                 'pseudopotential_type' : 'hamann',\n",
    "                 'xc'                   : 'PBE' },         \n",
    "          }\n",
    "\n",
    "#basis = {\n",
    "#         'O' : { 'file' : 'O.ion', 'pseudopotential_type' : 'siesta'},             \n",
    "#         'C' : { 'file' : 'C.ion', 'pseudopotential_type' : 'siesta'},             \n",
    "#         'H' : { 'file' : 'H.ion', 'pseudopotential_type' : 'siesta'}             \n",
    "#}"
   ]
  },
  {
   "cell_type": "markdown",
   "metadata": {},
   "source": [
    "#### Setup calculation using Conquest as calculator"
   ]
  },
  {
   "cell_type": "code",
   "execution_count": null,
   "metadata": {},
   "outputs": [],
   "source": [
    "cutoff  =  90.0\n",
    "kpoints = [1,1,1]\n",
    "fxc     = 'PBE'\n",
    "\n",
    "conquest_flags = {'IO.WriteOutToASEFile': True}\n",
    "\n",
    "# Flags for atomic positions optimisation\n",
    "conquest_flags.update({'AtomMove.TypeOfRun'   : 'sqnm',  # optimization algorithm\n",
    "                       'AtomMove.OptCell'     :  False,\n",
    "                       'AtomMove.MaxForceTol' :  5e-3,   # max Force component in Ha/bohr                       \n",
    "                       'AtomMove.ReuseDM'     :  True,    \n",
    "                       'AtomMove.AppendCoords':  True,\n",
    "                       })    \n",
    "\n",
    "calc = Conquest(directory      = working_directory,\n",
    "                grid_cutoff    = cutoff,\n",
    "                self_consistent= True,\n",
    "                xc    = fxc,\n",
    "                basis = basis,\n",
    "                kpts  = kpoints,\n",
    "                nspin = 1,\n",
    "                scf_tolerance = 1e-8,\n",
    "                **conquest_flags)\n",
    "\n",
    "struct.calc = calc"
   ]
  },
  {
   "cell_type": "markdown",
   "metadata": {},
   "source": [
    "#### Generate Conquest input and write\n",
    "\n",
    "- input file `Conquest_input` is stored in `./working_directory`"
   ]
  },
  {
   "cell_type": "code",
   "execution_count": null,
   "metadata": {
    "scrolled": true
   },
   "outputs": [],
   "source": [
    "struct.calc.write_input(struct)"
   ]
  },
  {
   "cell_type": "markdown",
   "metadata": {},
   "source": [
    "<div class=\"alert alert-block alert-danger\">\n",
    "    <b>WARNING:</b> you must have run the calculation somewhere and store the output files in the working directory\n",
    "    </b>\n",
    "</div>\n",
    "Mandatory output file(s):\n",
    "\n",
    "- `Conquest_out_ase`\n",
    "\n",
    "Optional for struture analysis:\n",
    "- `trajectory.xsf`\n",
    "- `coord_next.dat`"
   ]
  },
  {
   "cell_type": "markdown",
   "metadata": {},
   "source": [
    "#### Post-process `trajectory.xsf` file generated by Conquest and save `struct_last` in CIF and XSF format\n",
    "- `trajectory.xsf` is processed in order to have a `axsf` movie \n",
    "\n",
    "> `cq_postproc_xsf`return an Atoms ASE object `struct_last`"
   ]
  },
  {
   "cell_type": "code",
   "execution_count": null,
   "metadata": {},
   "outputs": [],
   "source": [
    "traj_file= 'trajectory.xsf'\n",
    "traj_file=  working_directory+'/'+traj_file\n",
    "\n",
    "if ( os.path.isfile(traj_file) ):\n",
    "    # cq_postproc_xsf output last structure from xsf file\n",
    "    struct_last = cq_postproc_xsf(traj_file,len(struct))\n",
    "    struct_last.write(working_directory+'/output.cif')\n",
    "    struct_last.write(working_directory+'/output.xsf')\n",
    "    \n",
    "else:\n",
    "    print('WARNING: {} not found !'.format(traj_file))"
   ]
  },
  {
   "cell_type": "markdown",
   "metadata": {},
   "source": [
    "- or extract last structure from Conquest file `coord_next.dat` \n",
    "> you need to provide `atomic_order` as in the Conquest input file"
   ]
  },
  {
   "cell_type": "code",
   "execution_count": null,
   "metadata": {},
   "outputs": [],
   "source": [
    "last_struct='coord_next.dat'\n",
    "last_struct=working_directory+'/'+last_struct\n",
    "\n",
    "if( os.path.isfile(last_struct) ):\n",
    "\n",
    "    struct_last = read_conquest(last_struct, fractional=True, atomic_order=['H','C','O'])\n",
    "    \n",
    "    struct_last.write(working_directory+'/output_.cif')\n",
    "    struct_last.write(working_directory+'/output_.xsf')\n",
    "    \n",
    "else:\n",
    "    print('WARNING: {} not found !'.format(traj_file))"
   ]
  },
  {
   "cell_type": "markdown",
   "metadata": {},
   "source": [
    "- run `xcrysden` to visualize the optimization movie (if possible)"
   ]
  },
  {
   "cell_type": "code",
   "execution_count": null,
   "metadata": {},
   "outputs": [],
   "source": [
    "if ( cmd_vis['xcrysden'] and os.path.isfile(traj_file) ):\n",
    "    subprocess.run(['xcrysden', '--axsf', traj_file])"
   ]
  },
  {
   "cell_type": "markdown",
   "metadata": {},
   "source": [
    "#### Read Conquest output results and print the data"
   ]
  },
  {
   "cell_type": "code",
   "execution_count": null,
   "metadata": {},
   "outputs": [],
   "source": [
    "struct.calc.read_results(struct)\n",
    "\n",
    "cq_print_output_data(struct,2)"
   ]
  },
  {
   "cell_type": "markdown",
   "metadata": {},
   "source": [
    "#### Extract and print main structural data from optimized structure `last_struct`"
   ]
  },
  {
   "cell_type": "code",
   "execution_count": null,
   "metadata": {},
   "outputs": [],
   "source": [
    "print_struct_data(struct_last,verbose=2)"
   ]
  },
  {
   "cell_type": "markdown",
   "metadata": {},
   "source": [
    "#### Extract Fermi energy, band gap and energy levels"
   ]
  },
  {
   "cell_type": "code",
   "execution_count": null,
   "metadata": {},
   "outputs": [],
   "source": [
    "# Fermi energy as evaluated in Conquest code 'Fermi energy for spin'\n",
    "fermi_energy = calc.get_fermi_level()\n",
    "eigenvalues  = calc.get_eigenvalues()\n",
    "\n",
    "print('Total electronic energy = {:14.6f} eV'.format(struct.calc.results['energy']))\n",
    "print('Fermi energy            = {:14.6f} eV'.format(fermi_energy))\n",
    "print_occ(eigenvalues,fermi_energy,0.01,method='aufbau',label='G')\n",
    "\n",
    "# Evaluate band gap\n",
    "gap, p1, p2  = bandgap(struct.calc,efermi=fermi_energy,direct=True)"
   ]
  },
  {
   "cell_type": "code",
   "execution_count": null,
   "metadata": {},
   "outputs": [],
   "source": []
  },
  {
   "cell_type": "code",
   "execution_count": null,
   "metadata": {},
   "outputs": [],
   "source": []
  }
 ],
 "metadata": {
  "kernelspec": {
   "display_name": "Python 3 (ipykernel)",
   "language": "python",
   "name": "python3"
  },
  "language_info": {
   "codemirror_mode": {
    "name": "ipython",
    "version": 3
   },
   "file_extension": ".py",
   "mimetype": "text/x-python",
   "name": "python",
   "nbconvert_exporter": "python",
   "pygments_lexer": "ipython3",
   "version": "3.9.13"
  }
 },
 "nbformat": 4,
 "nbformat_minor": 4
}
