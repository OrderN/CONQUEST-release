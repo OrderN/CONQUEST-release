{
 "cells": [
  {
   "cell_type": "markdown",
   "id": "fa5df5a4",
   "metadata": {},
   "source": [
    "### Example for phonon calculation of diamond using finite-displacement with ASE+Conquest"
   ]
  },
  {
   "cell_type": "code",
   "execution_count": null,
   "id": "a694bc0a",
   "metadata": {},
   "outputs": [],
   "source": [
    "import os\n",
    "import sys\n",
    "import numpy as np\n",
    "\n",
    "from ase.build import bulk\n",
    "from ase.spacegroup import crystal\n",
    "from ase.phonons import Phonons\n",
    "\n",
    "from ase.calculators.conquest import Conquest"
   ]
  },
  {
   "cell_type": "markdown",
   "id": "a95abb16",
   "metadata": {},
   "source": [
    "#### Directory for storing calculation files"
   ]
  },
  {
   "cell_type": "code",
   "execution_count": null,
   "id": "c15d05fd",
   "metadata": {},
   "outputs": [],
   "source": [
    "working_directory = 'data/cq_example_diamond_phonon_ase'"
   ]
  },
  {
   "cell_type": "markdown",
   "id": "31e46c51",
   "metadata": {},
   "source": [
    "#### Generate diamond cell ; enforced to be conventional by using `cubic=True`"
   ]
  },
  {
   "cell_type": "code",
   "execution_count": null,
   "id": "2c8181ae",
   "metadata": {},
   "outputs": [],
   "source": [
    "atoms = bulk('C', crystalstructure='diamond', a=3.5721, cubic=True)"
   ]
  },
  {
   "cell_type": "markdown",
   "id": "acf6c58e",
   "metadata": {},
   "source": [
    "#### Get arguments from command line when use as a python script"
   ]
  },
  {
   "cell_type": "code",
   "execution_count": null,
   "id": "9ff7ee62",
   "metadata": {},
   "outputs": [],
   "source": [
    "#for i in range(1, len(sys.argv)):\n",
    "#    print('argument:', i, 'value:', sys.argv[i])\n",
    "#\n",
    "#CQ_NPROC = int(sys.argv[1])\n",
    "#CQ_ROOT  = sys.argv[2]"
   ]
  },
  {
   "cell_type": "markdown",
   "id": "4b46fa9d",
   "metadata": {},
   "source": [
    "#### Define Conquest environment variables for ASE"
   ]
  },
  {
   "cell_type": "code",
   "execution_count": null,
   "id": "71e0a2e0",
   "metadata": {},
   "outputs": [],
   "source": [
    "CQ_NPROC= 8\n",
    "CQ_ROOT = '/Users/lioneltruflandier/CONQUEST-develop'"
   ]
  },
  {
   "cell_type": "code",
   "execution_count": null,
   "id": "d809fcda",
   "metadata": {},
   "outputs": [],
   "source": [
    "os.environ['ASE_CONQUEST_COMMAND'] = 'mpirun -np '+str(CQ_NPROC)+' '+CQ_ROOT+'/bin/Conquest'\n",
    "os.environ['CQ_PP_PATH']           = CQ_ROOT+'/pseudo-and-pao/'\n",
    "os.environ['CQ_GEN_BASIS_CMD']     = CQ_ROOT+'/tools/BasisGeneration/MakeIonFiles'"
   ]
  },
  {
   "cell_type": "markdown",
   "id": "cf2cecbd",
   "metadata": {},
   "source": [
    "#### Define Conquest PAO basis"
   ]
  },
  {
   "cell_type": "code",
   "execution_count": null,
   "id": "40263b59",
   "metadata": {},
   "outputs": [],
   "source": [
    "basis = {'C' : { 'gen_basis' : True,\n",
    "                 'basis_size': 'large'}}"
   ]
  },
  {
   "cell_type": "markdown",
   "id": "823b5f18",
   "metadata": {},
   "source": [
    "#### Setup Conquest as a calculator"
   ]
  },
  {
   "cell_type": "code",
   "execution_count": null,
   "id": "181fc70b",
   "metadata": {},
   "outputs": [],
   "source": [
    "calc = Conquest(basis=basis,\n",
    "                directory    = working_directory,\n",
    "                scf_tolerance= 1e-6, # default 1e-6\n",
    "                grid_cutoff  =  100) # default 100 Ha"
   ]
  },
  {
   "cell_type": "markdown",
   "id": "c3de9c77",
   "metadata": {},
   "source": [
    "#### Setup Phonon calculation with small displacement\n",
    "> size of the the supercell is $(4\\times 4\\times 4)$ with a displacement of 0.05 Ang ; `ph_dir` is the directory containing the results"
   ]
  },
  {
   "cell_type": "code",
   "execution_count": null,
   "id": "7078de65",
   "metadata": {},
   "outputs": [],
   "source": [
    "N      =  4\n",
    "ph_dir = 'phonon'\n",
    "ph     =  Phonons(atoms, calc, supercell=(N, N, N), delta=0.05, name=working_directory+'/'+ph_dir)"
   ]
  },
  {
   "cell_type": "markdown",
   "id": "5becacaa",
   "metadata": {},
   "source": [
    "#### Run Phonon calculation"
   ]
  },
  {
   "cell_type": "code",
   "execution_count": null,
   "id": "af297502",
   "metadata": {},
   "outputs": [],
   "source": [
    "#ph.run()"
   ]
  },
  {
   "cell_type": "code",
   "execution_count": null,
   "id": "5b79f91e",
   "metadata": {},
   "outputs": [],
   "source": []
  }
 ],
 "metadata": {
  "kernelspec": {
   "display_name": "Python 3 (ipykernel)",
   "language": "python",
   "name": "python3"
  },
  "language_info": {
   "codemirror_mode": {
    "name": "ipython",
    "version": 3
   },
   "file_extension": ".py",
   "mimetype": "text/x-python",
   "name": "python",
   "nbconvert_exporter": "python",
   "pygments_lexer": "ipython3",
   "version": "3.9.13"
  }
 },
 "nbformat": 4,
 "nbformat_minor": 5
}
