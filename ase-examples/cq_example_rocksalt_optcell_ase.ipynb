{
 "cells": [
  {
   "cell_type": "markdown",
   "metadata": {},
   "source": [
    "### Example for NaCl cell optimization using ASE-LBFGS and Conquest"
   ]
  },
  {
   "cell_type": "code",
   "execution_count": null,
   "metadata": {},
   "outputs": [],
   "source": [
    "import os\n",
    "\n",
    "from ase.build import bulk\n",
    "from ase.calculators.conquest import Conquest\n",
    "from ase.constraints import UnitCellFilter\n",
    "from ase.optimize import LBFGS\n",
    "from ase.io.conquest import Conquest_orthorhombic_check"
   ]
  },
  {
   "cell_type": "markdown",
   "metadata": {},
   "source": [
    "#### Define Conquest environment"
   ]
  },
  {
   "cell_type": "code",
   "execution_count": null,
   "metadata": {},
   "outputs": [],
   "source": [
    "os.environ['ASE_CONQUEST_COMMAND'] = 'mpirun -np 4 /Users/lioneltruflandier/CONQUEST-develop/src/Conquest'\n",
    "os.environ['CQ_PP_PATH'] =       '/Users/lioneltruflandier/CONQUEST-develop/pseudo-and-pao/'\n",
    "os.environ['CQ_GEN_BASIS_CMD'] = '/Users/lioneltruflandier/CONQUEST-develop/tools/BasisGeneration/MakeIonFiles'"
   ]
  },
  {
   "cell_type": "markdown",
   "metadata": {},
   "source": [
    "#### Directory for storing calculation files"
   ]
  },
  {
   "cell_type": "code",
   "execution_count": null,
   "metadata": {},
   "outputs": [],
   "source": [
    "working_directory = 'cq_example_rocksalt_optcell_ase'\n",
    "\n",
    "# Test if `working_directory` exists ? If not create it\n",
    "if ( not os.path.isdir(working_directory) ):\n",
    "    os.makedirs(working_directory)"
   ]
  },
  {
   "cell_type": "markdown",
   "metadata": {},
   "source": [
    "#### Generate rocksalt struture with $a=6.0$ Ang."
   ]
  },
  {
   "cell_type": "code",
   "execution_count": null,
   "metadata": {},
   "outputs": [],
   "source": [
    "rocksalt = bulk('NaCl', crystalstructure='rocksalt', a=6.0)\n",
    "\n",
    "# Conquest can only handle orthorhombic cells\n",
    "rocksalt = Conquest_orthorhombic_check(rocksalt,verbose=True)"
   ]
  },
  {
   "cell_type": "markdown",
   "metadata": {},
   "source": [
    "#### Setup Conquest atomic basis set"
   ]
  },
  {
   "cell_type": "code",
   "execution_count": null,
   "metadata": {},
   "outputs": [],
   "source": [
    "basis = {'Cl' : {'gen_basis'            : True,\n",
    "                 'basis_size'           : 'medium',\n",
    "                },                 \n",
    "         'Na' : {'gen_basis'            : True,                 \n",
    "                 'basis_size'           : 'medium',\n",
    "                  }\n",
    "         }\n",
    "\n",
    "#basis = {'Na' : {'file' : 'Na_PBE_DZP_CQ.ion'},\n",
    "#         'Cl' : {'file' : 'Cl_PBE_DZP_CQ.ion'}}\n",
    "#\n",
    "#basis = {'Na' : {'gen_basis'            : False,\n",
    "#                 'basis_size'           : 'medium',\n",
    "#                 'pseudopotential_type' : 'hamann',\n",
    "#                 'xc'                   : 'PBE' },\n",
    "#         'Cl' : {'file' : 'Cl_PBE_DZP_CQ.ion', 'xc' : 'PBE'}\n",
    "#         }"
   ]
  },
  {
   "cell_type": "markdown",
   "metadata": {},
   "source": [
    "#### Setup calculation using Conquest as calculator"
   ]
  },
  {
   "cell_type": "code",
   "execution_count": null,
   "metadata": {},
   "outputs": [],
   "source": [
    "conquest_flags = {'IO.WriteOutToASEFile': True}\n",
    "\n",
    "calc = Conquest(directory=working_directory,\n",
    "                grid_cutoff=80,\n",
    "                xc='PBE',\n",
    "                self_consistent=True,\n",
    "                basis=basis,\n",
    "                kpts=[3,3,3],\n",
    "                nspin=1,\n",
    "                **conquest_flags)"
   ]
  },
  {
   "cell_type": "markdown",
   "metadata": {},
   "source": [
    "#### Run calculation"
   ]
  },
  {
   "cell_type": "code",
   "execution_count": null,
   "metadata": {
    "scrolled": true
   },
   "outputs": [],
   "source": [
    "rocksalt.calc = calc\n",
    "dft_energy    = rocksalt.get_potential_energy()"
   ]
  },
  {
   "cell_type": "code",
   "execution_count": null,
   "metadata": {},
   "outputs": [],
   "source": [
    "ucf = UnitCellFilter(rocksalt)\n",
    "opt = LBFGS(ucf)"
   ]
  },
  {
   "cell_type": "code",
   "execution_count": null,
   "metadata": {},
   "outputs": [],
   "source": [
    "opt.run(fmax=0.005)"
   ]
  },
  {
   "cell_type": "markdown",
   "metadata": {},
   "source": [
    "#### Compute final lattice constant"
   ]
  },
  {
   "cell_type": "code",
   "execution_count": null,
   "metadata": {},
   "outputs": [],
   "source": [
    "exp_lattice = 5.64\n",
    "thr_lattice = (8*rocksalt.get_volume()/len(rocksalt))**(1.0/3.0)\n",
    "print('exp lattice contant = {:8.4f}'.format(exp_lattice))\n",
    "print('th  lattice contant = {:8.4f}'.format(thr_lattice))"
   ]
  }
 ],
 "metadata": {
  "kernelspec": {
   "display_name": "Python 3 (ipykernel)",
   "language": "python",
   "name": "python3"
  },
  "language_info": {
   "codemirror_mode": {
    "name": "ipython",
    "version": 3
   },
   "file_extension": ".py",
   "mimetype": "text/x-python",
   "name": "python",
   "nbconvert_exporter": "python",
   "pygments_lexer": "ipython3",
   "version": "3.9.13"
  }
 },
 "nbformat": 4,
 "nbformat_minor": 4
}
