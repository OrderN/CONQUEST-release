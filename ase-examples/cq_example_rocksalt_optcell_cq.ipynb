{
 "cells": [
  {
   "cell_type": "markdown",
   "metadata": {},
   "source": [
    "### Example for NaCl cell optimisation with CG as implemented in Conquest"
   ]
  },
  {
   "cell_type": "code",
   "execution_count": 1,
   "metadata": {},
   "outputs": [],
   "source": [
    "import os\n",
    "import shutil\n",
    "import subprocess\n",
    "import matplotlib.pyplot as plt\n",
    "import pickle\n",
    "\n",
    "from distutils.spawn import find_executable\n",
    "from numpy import amax, amin, size, array, trapz, floor\n",
    "\n",
    "from ase.units import Hartree\n",
    "from ase.build import bulk\n",
    "from ase.calculators.conquest import Conquest\n",
    "from ase.io.conquest import get_fermi_level\n",
    "\n",
    "from ase.dft.bandgap import bandgap\n",
    "from ase.dft.dos import DOS\n",
    "from ase.visualize import view\n",
    "from ase.spacegroup import get_spacegroup\n",
    "from ase import Atoms\n",
    "\n",
    "from cq_ase_external_lib import print_struct_data\n",
    "from cq_ase_external_lib import get_gapwind\n",
    "from cq_ase_external_lib import conquest_orthorhombic_check\n",
    "from cq_ase_external_lib import read_conquest"
   ]
  },
  {
   "cell_type": "code",
   "execution_count": 2,
   "metadata": {},
   "outputs": [
    {
     "name": "stdout",
     "output_type": "stream",
     "text": [
      "ase-3.23.0b1\n"
     ]
    }
   ],
   "source": [
    "%%bash \n",
    "ase --version"
   ]
  },
  {
   "cell_type": "markdown",
   "metadata": {},
   "source": [
    "#### Check if visualisation tools are installed"
   ]
  },
  {
   "cell_type": "code",
   "execution_count": 3,
   "metadata": {},
   "outputs": [
    {
     "name": "stdout",
     "output_type": "stream",
     "text": [
      "xcrysden found\n",
      "VESTA found\n",
      "VMDLauncher not found\n"
     ]
    }
   ],
   "source": [
    "# Add exe name \n",
    "cmd_vis = {'xcrysden' : False}\n",
    "\n",
    "for cmd, state in cmd_vis.items():\n",
    "    if ( not shutil.which(cmd) ):\n",
    "        print('{} not found'.format(cmd))\n",
    "    else:\n",
    "        print('{} found'.format(cmd))   \n",
    "        cmd_vis[cmd] = True\n",
    "        \n",
    "# For MacOSX add the path of the name of the app\n",
    "cmd_app = {'VESTA'      : '/Applications/VESTA/VESTA.app/Contents/MacOS/VESTA',\n",
    "           'VMDLauncher': '/Applications/VMD_1.9.2.app/Contents/MacOS/VMDLauncher'}\n",
    "\n",
    "for cmd, path in cmd_app.items():\n",
    "    if ( not find_executable(path) ):\n",
    "        print('{} not found'.format(cmd))\n",
    "    else:\n",
    "        print('{} found'.format(cmd))   "
   ]
  },
  {
   "cell_type": "markdown",
   "metadata": {},
   "source": [
    "#### Directory for storing calculation files"
   ]
  },
  {
   "cell_type": "code",
   "execution_count": 4,
   "metadata": {},
   "outputs": [],
   "source": [
    "working_directory = 'cq_example_rocksalt_optcell_cq'\n",
    "\n",
    "# Test if `working_directory` exists ? If not create it\n",
    "if ( not os.path.isdir(working_directory) ):\n",
    "    os.makedirs(working_directory)"
   ]
  },
  {
   "cell_type": "markdown",
   "metadata": {},
   "source": [
    "#### Define Conquest environment"
   ]
  },
  {
   "cell_type": "code",
   "execution_count": 5,
   "metadata": {},
   "outputs": [],
   "source": [
    "os.environ['ASE_CONQUEST_COMMAND'] = 'mpirun -np 4 /Users/lioneltruflandier/CONQUEST-develop/src/Conquest'\n",
    "os.environ['CQ_PP_PATH'] =       '/Users/lioneltruflandier/CONQUEST-develop/pseudo-and-pao/'\n",
    "os.environ['CQ_GEN_BASIS_CMD'] = '/Users/lioneltruflandier/CONQUEST-develop/tools/BasisGeneration/MakeIonFiles'"
   ]
  },
  {
   "cell_type": "markdown",
   "metadata": {},
   "source": [
    "#### Setup Conquest basis set"
   ]
  },
  {
   "cell_type": "code",
   "execution_count": 6,
   "metadata": {},
   "outputs": [],
   "source": [
    "\"\"\"\n",
    "basis = {'Na' : {'gen_basis'            : False,\n",
    "                 'file' : 'Na_PBE_SZP.ion',\n",
    "                 'basis_size'           : 'medium',\n",
    "                 'pseudopotential_type' : 'siesta'},\n",
    "         'Cl' : {'gen_basis'            : False,\n",
    "                 'file' : 'Cl_PBE_DZP.ion',\n",
    "                 'basis_size'           : 'medium',\n",
    "                 'pseudopotential_type' : 'siesta'}\n",
    "        }\n",
    "\"\"\"\n",
    "basis = {'Cl' : {'gen_basis'            : True,\n",
    "                 'basis_size'           : 'medium',\n",
    "                },                 \n",
    "         'Na' : {'gen_basis'            : True,                 \n",
    "                 'basis_size'           : 'medium',\n",
    "                  }\n",
    "         }\n",
    "\n",
    "val_elec = {'Na': 9, 'Cl': 7}"
   ]
  },
  {
   "cell_type": "markdown",
   "metadata": {},
   "source": [
    "#### Generate rocksalt cell from CIF file data"
   ]
  },
  {
   "cell_type": "markdown",
   "metadata": {},
   "source": [
    "- Choose either primitive or conventional cell"
   ]
  },
  {
   "cell_type": "code",
   "execution_count": 7,
   "metadata": {},
   "outputs": [],
   "source": [
    "primitive = True"
   ]
  },
  {
   "cell_type": "markdown",
   "metadata": {},
   "source": [
    "- Generate rocksalt struture with $a=5.71$ Ang."
   ]
  },
  {
   "cell_type": "code",
   "execution_count": 8,
   "metadata": {},
   "outputs": [
    {
     "name": "stdout",
     "output_type": "stream",
     "text": [
      "## ConquestWarning ##\n",
      "file: /Users/lioneltruflandier/CONQUEST-release-f-rework-output-ase/ase-examples/cq_ase_external_lib.py , line: 158\n",
      ">>>>  Current cell not orthorhombic:\n",
      "Bravais lattice:\n",
      "   FCC(a=5.71)\n",
      "Space group:\n",
      "   Fm-3m (225)\n",
      "Cell parameters (Ang. and degree):\n",
      "   a =       4.037580\n",
      "   b =       4.037580\n",
      "   c =       4.037580\n",
      "   alpha =  60.0000\n",
      "   beta  =  60.0000\n",
      "   gamma =  60.0000\n",
      "\n",
      "\n",
      "## ConquestWarning ##\n",
      "file: /Users/lioneltruflandier/CONQUEST-release-f-rework-output-ase/ase-examples/cq_ase_external_lib.py , line: 176\n",
      ">>>>  New orthorhombic cell:\n",
      "Bravais lattice:\n",
      "   CUB(a=5.71)\n",
      "Space group:\n",
      "   Fm-3m (225)\n",
      "Cell parameters (Ang. and degree):\n",
      "   a =       5.710000\n",
      "   b =       5.710000\n",
      "   c =       5.710000\n",
      "   alpha =  90.0000\n",
      "   beta  =  90.0000\n",
      "   gamma =  90.0000\n"
     ]
    },
    {
     "name": "stderr",
     "output_type": "stream",
     "text": [
      "/Users/lioneltruflandier/Conquest-ase/ase-Conquest/ase/utils/__init__.py:62: FutureWarning: Please use atoms.cell.cellpar() instead\n",
      "  warnings.warn(warning)\n"
     ]
    }
   ],
   "source": [
    "if ( primitive ):\n",
    "    # For primitive cell\n",
    "    struct = bulk('NaCl', crystalstructure='rocksalt', a=5.71, cubic=False)\n",
    "    # Conquest can only handle orthorhombic cells ; check\n",
    "    struct = conquest_orthorhombic_check(struct,verbose=False)\n",
    "    # warning must be printed and 'struct' is modified to conventional cell\n",
    "    \n",
    "else:\n",
    "    # For conventional cell\n",
    "    struct = bulk('NaCl', crystalstructure='rocksalt', a=5.71, cubic=True)\n",
    "    # Conquest can only handle orthorhombic cells ; check\n",
    "    struct = conquest_orthorhombic_check(struct,verbose=False)\n",
    "    # no warning..."
   ]
  },
  {
   "cell_type": "markdown",
   "metadata": {},
   "source": [
    "#### Compute the number of states\n",
    "- Given `struct`and the `val_elec`compute the total number of electrons"
   ]
  },
  {
   "cell_type": "code",
   "execution_count": 9,
   "metadata": {},
   "outputs": [
    {
     "name": "stdout",
     "output_type": "stream",
     "text": [
      "Number of valence electron in the unit cell =  64\n"
     ]
    }
   ],
   "source": [
    "# Get atom labels\n",
    "atom_names = struct.get_chemical_symbols()\n",
    "\n",
    "# Compute total valence electrons\n",
    "tot_val = 0\n",
    "for i in range(len(struct)):\n",
    "    for key, val in val_elec.items():\n",
    "        if ( key == atom_names[i] ):\n",
    "            tot_val = tot_val + val\n",
    "\n",
    "print('Number of valence electron in the unit cell = ', tot_val)"
   ]
  },
  {
   "cell_type": "markdown",
   "metadata": {},
   "source": [
    "- Compute number(s) of occupied states"
   ]
  },
  {
   "cell_type": "code",
   "execution_count": 10,
   "metadata": {},
   "outputs": [
    {
     "name": "stdout",
     "output_type": "stream",
     "text": [
      "\n",
      "Number of occupied bands =  [32]\n"
     ]
    }
   ],
   "source": [
    "n_occ = []\n",
    "if ( tot_val % 2 == 0):\n",
    "    # paired electrons\n",
    "    n_occ.append(int(tot_val/2))\n",
    "else:\n",
    "    # unpaired electrons\n",
    "    n_occ.append(int((tot_val-1)/2))\n",
    "    n_occ.append(int((tot_val+1)/2))\n",
    "    \n",
    "print()\n",
    "print('Number of occupied bands = ', n_occ)"
   ]
  },
  {
   "cell_type": "markdown",
   "metadata": {},
   "source": [
    "#### Extract and print main structural data from Atoms object (here `struct`)"
   ]
  },
  {
   "cell_type": "code",
   "execution_count": 11,
   "metadata": {},
   "outputs": [
    {
     "name": "stdout",
     "output_type": "stream",
     "text": [
      "Cartesian atomic positions (Ang.)\n",
      "  Na      0.000000      0.000000      0.000000\n",
      "  Cl      2.855000      0.000000      0.000000\n",
      "  Na      0.000000      2.855000      2.855000\n",
      "  Cl      2.855000      2.855000      2.855000\n",
      "  Na      2.855000      0.000000      2.855000\n",
      "  Cl      0.000000      0.000000      2.855000\n",
      "  Na      2.855000      2.855000      0.000000\n",
      "  Cl      0.000000      2.855000      0.000000\n",
      "\n",
      "Fractional atomic positions (Adim.)\n",
      "  Na      0.000000      0.000000      0.000000\n",
      "  Cl      0.500000      0.000000      0.000000\n",
      "  Na      0.000000      0.500000      0.500000\n",
      "  Cl      0.500000      0.500000      0.500000\n",
      "  Na      0.500000      0.000000      0.500000\n",
      "  Cl      0.000000      0.000000      0.500000\n",
      "  Na      0.500000      0.500000      0.000000\n",
      "  Cl      0.000000      0.500000      0.000000\n",
      "\n",
      "Cell tensor (Ang.)\n",
      "          5.710000      0.000000      0.000000\n",
      "          0.000000      5.710000      0.000000\n",
      "          0.000000      0.000000      5.710000\n",
      "\n",
      "Cartesian atomic positions (Ang.) from cell tensor\n",
      "  Na      0.000000      0.000000      0.000000\n",
      "  Cl      2.855000      0.000000      0.000000\n",
      "  Na      0.000000      2.855000      2.855000\n",
      "  Cl      2.855000      2.855000      2.855000\n",
      "  Na      2.855000      0.000000      2.855000\n",
      "  Cl      0.000000      0.000000      2.855000\n",
      "  Na      2.855000      2.855000      0.000000\n",
      "  Cl      0.000000      2.855000      0.000000\n",
      "\n",
      "Cell parameters (Ang. and degree)\n",
      "  a =       5.710000\n",
      "  b =       5.710000\n",
      "  c =       5.710000\n",
      "  alpha =  90.0000\n",
      "  beta  =  90.0000\n",
      "  gamma =  90.0000\n"
     ]
    }
   ],
   "source": [
    "print_struct_data(struct,verbose=1)"
   ]
  },
  {
   "cell_type": "markdown",
   "metadata": {},
   "source": [
    "- Space group ; Brillouin zone of space group [225](https://www.cryst.ehu.es/cgi-bin/cryst/programs/nph-kv-list?gnum=225&fig=fm3qmf&what=data)"
   ]
  },
  {
   "cell_type": "code",
   "execution_count": 12,
   "metadata": {},
   "outputs": [
    {
     "name": "stdout",
     "output_type": "stream",
     "text": [
      "Space group: F m -3 m (225) \n"
     ]
    }
   ],
   "source": [
    "sg = get_spacegroup(struct)\n",
    "print('Space group: {} ({}) '.format(sg.symbol,sg.no))"
   ]
  },
  {
   "cell_type": "markdown",
   "metadata": {},
   "source": [
    "- Save input structure as VASP `POSCAR` file & `CIF` file (for checking purpose)"
   ]
  },
  {
   "cell_type": "code",
   "execution_count": 13,
   "metadata": {},
   "outputs": [],
   "source": [
    "struct.write(working_directory+'/input.vasp')\n",
    "struct.write(working_directory+'/input.cif')"
   ]
  },
  {
   "cell_type": "markdown",
   "metadata": {},
   "source": [
    "- run `VESTA` to check input (if possible) from `input.cif`"
   ]
  },
  {
   "cell_type": "code",
   "execution_count": 14,
   "metadata": {},
   "outputs": [],
   "source": [
    "#if ( 'VESTA' in cmd_app ):\n",
    "#    subprocess.run([cmd_app['VESTA'], working_directory+'/'+'input.cif'])"
   ]
  },
  {
   "cell_type": "markdown",
   "metadata": {},
   "source": [
    "#### Setup calculation using Conquest as calculator"
   ]
  },
  {
   "cell_type": "code",
   "execution_count": 15,
   "metadata": {},
   "outputs": [
    {
     "name": "stdout",
     "output_type": "stream",
     "text": [
      "input basis:\n",
      "Cl {'gen_basis': True, 'basis_size': 'medium'}\n",
      "input basis:\n",
      "Na {'gen_basis': True, 'basis_size': 'medium'}\n"
     ]
    }
   ],
   "source": [
    "cutoff  =  80.0\n",
    "kpoints = [3,3,3]\n",
    "fxc     = 'PBE'\n",
    "\n",
    "conquest_flags = {'IO.WriteOutToASEFile' : True}\n",
    "\n",
    "#conquest_flags = {'IO.WriteOutToASEFile' : True,\n",
    "#                  'General.Pseudopotentialtype' : 'siesta'}\n",
    "\n",
    "\n",
    "conquest_flags.update({'AtomMove.TypeOfRun'   : 'cg',    # optimization algorithm\n",
    "                       'AtomMove.OptCell'     : True,\n",
    "                       'AtomMove.OptCellMethod'    : 1,\n",
    "                       'AtomMove.TargetPressure'   : 1e-5,\n",
    "                       'AtomMove.EnthalpyTolerance': 1e-6,\n",
    "                       'AtomMove.StressTolerance'  : 0.001,\n",
    "                      })    \n",
    "\n",
    "calc = Conquest(directory      = working_directory,\n",
    "                grid_cutoff    = cutoff,\n",
    "                self_consistent= True,\n",
    "                xc    = fxc,\n",
    "                basis = basis,\n",
    "                kpts  = kpoints,\n",
    "                nspin = 1,\n",
    "                **conquest_flags)\n",
    "\n",
    "struct.calc = calc"
   ]
  },
  {
   "cell_type": "markdown",
   "metadata": {},
   "source": [
    "#### Launch structure optimization"
   ]
  },
  {
   "cell_type": "code",
   "execution_count": 16,
   "metadata": {},
   "outputs": [
    {
     "name": "stdout",
     "output_type": "stream",
     "text": [
      "\n",
      "make_ion_files input:\n",
      "Na {'gen_basis': True, 'basis_size': 'medium'}\n",
      "\n",
      "make_ion_files input:\n",
      "Cl {'gen_basis': True, 'basis_size': 'medium'}\n"
     ]
    }
   ],
   "source": [
    "cq_dft_energy = struct.get_potential_energy()"
   ]
  },
  {
   "cell_type": "markdown",
   "metadata": {},
   "source": [
    "#### Post-process `trajectory.xsf` file generated by Conquest"
   ]
  },
  {
   "cell_type": "code",
   "execution_count": null,
   "metadata": {},
   "outputs": [],
   "source": [
    "traj_file='trajectory.xsf'\n",
    "traj_file=working_directory+'/'+traj_file\n",
    "\n",
    "if ( os.path.isfile(traj_file) ):\n",
    "    # cq_postproc_xsf output last structure from xsf file\n",
    "    struct_last = cq_postproc_xsf(traj_file,len(struct))\n",
    "\n",
    "    struct_last.write(working_directory+'/output.cif')\n",
    "    struct_last.write(working_directory+'/output.xsf')\n",
    "else:\n",
    "    print('WARNING: {} not found !'.format(traj_file))"
   ]
  },
  {
   "cell_type": "markdown",
   "metadata": {},
   "source": [
    "- run `xcrysden` to visualize the optimization movie (if possible)"
   ]
  },
  {
   "cell_type": "code",
   "execution_count": null,
   "metadata": {},
   "outputs": [],
   "source": [
    "#if ( cmd_vis['xcrysden'] and os.path.isfile(traj_file) ):\n",
    "#    subprocess.run(['xcrysden', '--axsf', traj_file])"
   ]
  },
  {
   "cell_type": "markdown",
   "metadata": {},
   "source": [
    "- or read last structure from Conquest  `coord_next.dat` "
   ]
  },
  {
   "cell_type": "code",
   "execution_count": null,
   "metadata": {},
   "outputs": [],
   "source": [
    "last_struct='coord_next.dat'\n",
    "last_struct=working_directory+'/'+last_struct\n",
    "\n",
    "if( os.path.isfile(last_struct) ):\n",
    "\n",
    "    struct_last = read_conquest(last_struct, fractional=True, atomic_order=['Na','Cl'])\n",
    "    \n",
    "    struct_last.write(working_directory+'/output_.cif')\n",
    "    struct_last.write(working_directory+'/output_.xsf')"
   ]
  },
  {
   "cell_type": "markdown",
   "metadata": {},
   "source": [
    "#### Compute final lattice constant"
   ]
  },
  {
   "cell_type": "code",
   "execution_count": null,
   "metadata": {},
   "outputs": [],
   "source": [
    "exp_lattice = 5.64\n",
    "thr_lattice = (8*struct_last.get_volume()/len(struct_last))**(1.0/3.0)\n",
    "print('exp lattice contant = {:8.4f}'.format(exp_lattice))\n",
    "print('th  lattice contant = {:8.4f}'.format(thr_lattice))"
   ]
  }
 ],
 "metadata": {
  "kernelspec": {
   "display_name": "Python 3 (ipykernel)",
   "language": "python",
   "name": "python3"
  },
  "language_info": {
   "codemirror_mode": {
    "name": "ipython",
    "version": 3
   },
   "file_extension": ".py",
   "mimetype": "text/x-python",
   "name": "python",
   "nbconvert_exporter": "python",
   "pygments_lexer": "ipython3",
   "version": "3.9.13"
  }
 },
 "nbformat": 4,
 "nbformat_minor": 4
}
